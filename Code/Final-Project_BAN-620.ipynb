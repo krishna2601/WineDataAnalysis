{
 "cells": [
  {
   "cell_type": "markdown",
   "metadata": {},
   "source": [
    "## FINAL PROJECT"
   ]
  },
  {
   "cell_type": "markdown",
   "metadata": {},
   "source": [
    "#### Aman Solanki, Bilal Adnan, Krishna Patel, Mandeep Singh"
   ]
  },
  {
   "attachments": {},
   "cell_type": "markdown",
   "metadata": {},
   "source": [
    "#### BAN 620 – Data Mining\n",
    "#### Professor Robert Treichler\n",
    "#### California State University East Bay\n",
    "#### Spring Semester 2020"
   ]
  },
  {
   "cell_type": "code",
   "execution_count": 1,
   "metadata": {},
   "outputs": [],
   "source": [
    "import warnings\n",
    "warnings.filterwarnings('ignore')  # \"error\", \"ignore\", \"always\", \"default\", \"module\" or \"once\""
   ]
  },
  {
   "cell_type": "code",
   "execution_count": 4,
   "metadata": {},
   "outputs": [],
   "source": [
    "import pandas as pd\n",
    "import numpy as np\n",
    "import matplotlib.pyplot as plt\n",
    "import seaborn as sns\n",
    "\n",
    "from sklearn.metrics import confusion_matrix \n",
    "from sklearn.metrics import accuracy_score  #preditive accuracy\n",
    "\n",
    "\n",
    "#for imputing missing values\n",
    "from sklearn.experimental import enable_iterative_imputer  \n",
    "from sklearn.impute import IterativeImputer\n",
    "\n",
    "#for models used\n",
    "from sklearn.neighbors import KNeighborsClassifier\n",
    "from sklearn.tree import DecisionTreeClassifier\n",
    "from sklearn.ensemble import BaggingClassifier\n",
    "from sklearn.ensemble import AdaBoostClassifier\n",
    "from sklearn.ensemble import GradientBoostingClassifier\n",
    "from sklearn.svm import SVC\n",
    "from sklearn.ensemble import RandomForestClassifier\n",
    "from sklearn.ensemble import ExtraTreesClassifier\n",
    "from sklearn.model_selection import GridSearchCV\n",
    "from sklearn import tree\n",
    "from dmba import plotDecisionTree\n",
    "\n",
    "from sklearn.model_selection import train_test_split\n",
    "from sklearn.linear_model import Ridge, LassoCV\n",
    "from sklearn.metrics import classification_report,confusion_matrix\n",
    "from dmba import regressionSummary, classificationSummary \n",
    "from sklearn import preprocessing  # imputing and scale\n",
    "\n",
    "import itertools \n",
    "\n",
    "from sklearn.metrics import mean_absolute_error  #MAE\n",
    "from sklearn.metrics import mean_squared_error   #RMSE"
   ]
  },
  {
   "cell_type": "code",
   "execution_count": 5,
   "metadata": {},
   "outputs": [],
   "source": [
    "%matplotlib inline"
   ]
  },
  {
   "cell_type": "code",
   "execution_count": 6,
   "metadata": {},
   "outputs": [],
   "source": [
    "original_df=pd.read_csv('Wine.csv') "
   ]
  },
  {
   "cell_type": "markdown",
   "metadata": {},
   "source": [
    "| Column              | Description                                                                           |       \n",
    "| ------------------- | ------------------------------------------------------------------------------------- | \n",
    "| INDEX               | wine Identification Variable\n",
    "| TARGET              | number of Wine Cases ordered\n",
    "| FixedAcidity        | most acids involved with wine or fixed or nonvolatile (do not evaporate readily)\n",
    "| VolatileAcidity     | the amount of acetic acid in wine\n",
    "| CitricAcid          | citric acid amount in wine\n",
    "| ResidualSugar       | the amount of sugar remaining after fermentation stops\n",
    "| Chlorides           | the amount of salt in the wine\n",
    "| FreeSulfurDioxide\t  | the free form of SO2 exists in equilibrium between molecular SO2 (as a dissolved gas) and bisulfite ion\n",
    "| TotalSulfurDioxide  | amount of free and bound forms of S02\n",
    "| Density             | the density of water is close to that of water depending on the percent alcohol and sugar content\n",
    "| pH                  | describes how acidic or basic a wine is on a scale from 0 (very acidic) to 14 (very basic)\n",
    "| Sulphates           | a wine additive which can contribute to sulfur dioxide gas (S02) levels\n",
    "| Alcohol             | the percent alcohol content of the wine\n",
    "| LabelAppeal         | score indicating the appeal of label design for consumers. \n",
    "| AcidIndex           | proprietary method of testing total acidity of wine by using a weighted average\n",
    "| STARS               | Wine Rating"
   ]
  },
  {
   "cell_type": "code",
   "execution_count": 7,
   "metadata": {},
   "outputs": [
    {
     "name": "stdout",
     "output_type": "stream",
     "text": [
      "<class 'pandas.core.frame.DataFrame'>\n",
      "RangeIndex: 12795 entries, 0 to 12794\n",
      "Data columns (total 16 columns):\n",
      "INDEX                 12795 non-null int64\n",
      "TARGET                12795 non-null int64\n",
      "FixedAcidity          12795 non-null float64\n",
      "VolatileAcidity       12795 non-null float64\n",
      "CitricAcid            12795 non-null float64\n",
      "ResidualSugar         12179 non-null float64\n",
      "Chlorides             12157 non-null float64\n",
      "FreeSulfurDioxide     12148 non-null float64\n",
      "TotalSulfurDioxide    12113 non-null float64\n",
      "Density               12795 non-null float64\n",
      "pH                    12400 non-null float64\n",
      "Sulphates             11585 non-null float64\n",
      "Alcohol               12142 non-null float64\n",
      "LabelAppeal           12795 non-null int64\n",
      "AcidIndex             12795 non-null int64\n",
      "STARS                 9436 non-null float64\n",
      "dtypes: float64(12), int64(4)\n",
      "memory usage: 1.6 MB\n"
     ]
    }
   ],
   "source": [
    "original_df.info() #data contains missing values "
   ]
  },
  {
   "cell_type": "code",
   "execution_count": 8,
   "metadata": {},
   "outputs": [
    {
     "data": {
      "text/html": [
       "<div>\n",
       "<style scoped>\n",
       "    .dataframe tbody tr th:only-of-type {\n",
       "        vertical-align: middle;\n",
       "    }\n",
       "\n",
       "    .dataframe tbody tr th {\n",
       "        vertical-align: top;\n",
       "    }\n",
       "\n",
       "    .dataframe thead th {\n",
       "        text-align: right;\n",
       "    }\n",
       "</style>\n",
       "<table border=\"1\" class=\"dataframe\">\n",
       "  <thead>\n",
       "    <tr style=\"text-align: right;\">\n",
       "      <th></th>\n",
       "      <th>INDEX</th>\n",
       "      <th>TARGET</th>\n",
       "      <th>FixedAcidity</th>\n",
       "      <th>VolatileAcidity</th>\n",
       "      <th>CitricAcid</th>\n",
       "      <th>ResidualSugar</th>\n",
       "      <th>Chlorides</th>\n",
       "      <th>FreeSulfurDioxide</th>\n",
       "      <th>TotalSulfurDioxide</th>\n",
       "      <th>Density</th>\n",
       "      <th>pH</th>\n",
       "      <th>Sulphates</th>\n",
       "      <th>Alcohol</th>\n",
       "      <th>LabelAppeal</th>\n",
       "      <th>AcidIndex</th>\n",
       "      <th>STARS</th>\n",
       "    </tr>\n",
       "  </thead>\n",
       "  <tbody>\n",
       "    <tr>\n",
       "      <th>0</th>\n",
       "      <td>1</td>\n",
       "      <td>3</td>\n",
       "      <td>3.2</td>\n",
       "      <td>1.16</td>\n",
       "      <td>-0.98</td>\n",
       "      <td>54.2</td>\n",
       "      <td>-0.567</td>\n",
       "      <td>NaN</td>\n",
       "      <td>268.0</td>\n",
       "      <td>0.99280</td>\n",
       "      <td>3.33</td>\n",
       "      <td>-0.59</td>\n",
       "      <td>9.9</td>\n",
       "      <td>0</td>\n",
       "      <td>8</td>\n",
       "      <td>2.0</td>\n",
       "    </tr>\n",
       "    <tr>\n",
       "      <th>1</th>\n",
       "      <td>2</td>\n",
       "      <td>3</td>\n",
       "      <td>4.5</td>\n",
       "      <td>0.16</td>\n",
       "      <td>-0.81</td>\n",
       "      <td>26.1</td>\n",
       "      <td>-0.425</td>\n",
       "      <td>15.0</td>\n",
       "      <td>-327.0</td>\n",
       "      <td>1.02792</td>\n",
       "      <td>3.38</td>\n",
       "      <td>0.70</td>\n",
       "      <td>NaN</td>\n",
       "      <td>-1</td>\n",
       "      <td>7</td>\n",
       "      <td>3.0</td>\n",
       "    </tr>\n",
       "  </tbody>\n",
       "</table>\n",
       "</div>"
      ],
      "text/plain": [
       "   INDEX  TARGET  FixedAcidity  VolatileAcidity  CitricAcid  ResidualSugar  \\\n",
       "0      1       3           3.2             1.16       -0.98           54.2   \n",
       "1      2       3           4.5             0.16       -0.81           26.1   \n",
       "\n",
       "   Chlorides  FreeSulfurDioxide  TotalSulfurDioxide  Density    pH  Sulphates  \\\n",
       "0     -0.567                NaN               268.0  0.99280  3.33      -0.59   \n",
       "1     -0.425               15.0              -327.0  1.02792  3.38       0.70   \n",
       "\n",
       "   Alcohol  LabelAppeal  AcidIndex  STARS  \n",
       "0      9.9            0          8    2.0  \n",
       "1      NaN           -1          7    3.0  "
      ]
     },
     "execution_count": 8,
     "metadata": {},
     "output_type": "execute_result"
    }
   ],
   "source": [
    "original_df.head(2) #data contains negative values"
   ]
  },
  {
   "cell_type": "code",
   "execution_count": 9,
   "metadata": {},
   "outputs": [
    {
     "data": {
      "text/plain": [
       "[]"
      ]
     },
     "execution_count": 9,
     "metadata": {},
     "output_type": "execute_result"
    },
    {
     "data": {
      "image/png": "[encoded data removed]",
      "text/plain": [
       "<Figure size 1440x792 with 1 Axes>"
      ]
     },
     "metadata": {
      "needs_background": "light"
     },
     "output_type": "display_data"
    }
   ],
   "source": [
    "#checking columns with missing values\n",
    "naInfo = np.zeros(original_df.shape)\n",
    "naInfo[original_df.isna().values] = 1\n",
    "naInfo = pd.DataFrame(naInfo, columns=original_df.columns)\n",
    "fig, ax = plt.subplots()\n",
    "fig.set_size_inches(20, 11)\n",
    "ax = sns.heatmap(naInfo, vmin=0, vmax=0.1, cmap='Blues', cbar=False)\n",
    "ax.set_yticks([])"
   ]
  },
  {
   "cell_type": "code",
   "execution_count": 10,
   "metadata": {},
   "outputs": [
    {
     "name": "stdout",
     "output_type": "stream",
     "text": [
      "Features with missing values:\n",
      "1. ResidualSugar has 616 missing values\n",
      "2. Chlorides has 638 missing values\n",
      "3. FreeSulfurDioxide has 647 missing values\n",
      "4. TotalSulfurDioxide has 682 missing values\n",
      "5. pH has 395 missing values\n",
      "6. Sulphates has 1210 missing values\n",
      "7. Alcohol has 653 missing values\n",
      "8. STARS has 3359 missing values\n"
     ]
    }
   ],
   "source": [
    "print('Features with missing values:') \n",
    "print('1. ResidualSugar has', original_df['ResidualSugar'].isnull().sum(), 'missing values' )\n",
    "print('2. Chlorides has', original_df['Chlorides'].isnull().sum(), 'missing values')\n",
    "print('3. FreeSulfurDioxide has', original_df['FreeSulfurDioxide'].isnull().sum(), 'missing values')\n",
    "print('4. TotalSulfurDioxide has', original_df['TotalSulfurDioxide'].isnull().sum(), 'missing values')\n",
    "print('5. pH has', original_df['pH'].isnull().sum(), 'missing values')\n",
    "print('6. Sulphates has', original_df['Sulphates'].isnull().sum(), 'missing values')\n",
    "print('7. Alcohol has', original_df['Alcohol'].isnull().sum(), 'missing values')\n",
    "print('8. STARS has', original_df['STARS'].isnull().sum(), 'missing values')"
   ]
  },
  {
   "cell_type": "code",
   "execution_count": 11,
   "metadata": {},
   "outputs": [
    {
     "data": {
      "text/html": [
       "<div>\n",
       "<style scoped>\n",
       "    .dataframe tbody tr th:only-of-type {\n",
       "        vertical-align: middle;\n",
       "    }\n",
       "\n",
       "    .dataframe tbody tr th {\n",
       "        vertical-align: top;\n",
       "    }\n",
       "\n",
       "    .dataframe thead th {\n",
       "        text-align: right;\n",
       "    }\n",
       "</style>\n",
       "<table border=\"1\" class=\"dataframe\">\n",
       "  <thead>\n",
       "    <tr style=\"text-align: right;\">\n",
       "      <th></th>\n",
       "      <th>INDEX</th>\n",
       "      <th>TARGET</th>\n",
       "      <th>FixedAcidity</th>\n",
       "      <th>VolatileAcidity</th>\n",
       "      <th>CitricAcid</th>\n",
       "      <th>ResidualSugar</th>\n",
       "      <th>Chlorides</th>\n",
       "      <th>FreeSulfurDioxide</th>\n",
       "      <th>TotalSulfurDioxide</th>\n",
       "      <th>Density</th>\n",
       "      <th>pH</th>\n",
       "      <th>Sulphates</th>\n",
       "      <th>Alcohol</th>\n",
       "      <th>LabelAppeal</th>\n",
       "      <th>AcidIndex</th>\n",
       "      <th>STARS</th>\n",
       "    </tr>\n",
       "  </thead>\n",
       "  <tbody>\n",
       "    <tr>\n",
       "      <th>count</th>\n",
       "      <td>12795.000000</td>\n",
       "      <td>12795.000000</td>\n",
       "      <td>12795.000000</td>\n",
       "      <td>12795.000000</td>\n",
       "      <td>12795.000000</td>\n",
       "      <td>12179.000000</td>\n",
       "      <td>12157.000000</td>\n",
       "      <td>12148.000000</td>\n",
       "      <td>12113.000000</td>\n",
       "      <td>12795.000000</td>\n",
       "      <td>12400.000000</td>\n",
       "      <td>11585.000000</td>\n",
       "      <td>12142.000000</td>\n",
       "      <td>12795.000000</td>\n",
       "      <td>12795.000000</td>\n",
       "      <td>9436.000000</td>\n",
       "    </tr>\n",
       "    <tr>\n",
       "      <th>mean</th>\n",
       "      <td>8069.980305</td>\n",
       "      <td>3.029074</td>\n",
       "      <td>7.075717</td>\n",
       "      <td>0.324104</td>\n",
       "      <td>0.308413</td>\n",
       "      <td>5.418733</td>\n",
       "      <td>0.054822</td>\n",
       "      <td>30.845571</td>\n",
       "      <td>120.714233</td>\n",
       "      <td>0.994203</td>\n",
       "      <td>3.207628</td>\n",
       "      <td>0.527112</td>\n",
       "      <td>10.489236</td>\n",
       "      <td>-0.009066</td>\n",
       "      <td>7.772724</td>\n",
       "      <td>2.041755</td>\n",
       "    </tr>\n",
       "    <tr>\n",
       "      <th>std</th>\n",
       "      <td>4656.905107</td>\n",
       "      <td>1.926368</td>\n",
       "      <td>6.317643</td>\n",
       "      <td>0.784014</td>\n",
       "      <td>0.862080</td>\n",
       "      <td>33.749379</td>\n",
       "      <td>0.318467</td>\n",
       "      <td>148.714558</td>\n",
       "      <td>231.913211</td>\n",
       "      <td>0.026538</td>\n",
       "      <td>0.679687</td>\n",
       "      <td>0.932129</td>\n",
       "      <td>3.727819</td>\n",
       "      <td>0.891089</td>\n",
       "      <td>1.323926</td>\n",
       "      <td>0.902540</td>\n",
       "    </tr>\n",
       "    <tr>\n",
       "      <th>min</th>\n",
       "      <td>1.000000</td>\n",
       "      <td>0.000000</td>\n",
       "      <td>-18.100000</td>\n",
       "      <td>-2.790000</td>\n",
       "      <td>-3.240000</td>\n",
       "      <td>-127.800000</td>\n",
       "      <td>-1.171000</td>\n",
       "      <td>-555.000000</td>\n",
       "      <td>-823.000000</td>\n",
       "      <td>0.888090</td>\n",
       "      <td>0.480000</td>\n",
       "      <td>-3.130000</td>\n",
       "      <td>-4.700000</td>\n",
       "      <td>-2.000000</td>\n",
       "      <td>4.000000</td>\n",
       "      <td>1.000000</td>\n",
       "    </tr>\n",
       "    <tr>\n",
       "      <th>25%</th>\n",
       "      <td>4037.500000</td>\n",
       "      <td>2.000000</td>\n",
       "      <td>5.200000</td>\n",
       "      <td>0.130000</td>\n",
       "      <td>0.030000</td>\n",
       "      <td>-2.000000</td>\n",
       "      <td>-0.031000</td>\n",
       "      <td>0.000000</td>\n",
       "      <td>27.000000</td>\n",
       "      <td>0.987720</td>\n",
       "      <td>2.960000</td>\n",
       "      <td>0.280000</td>\n",
       "      <td>9.000000</td>\n",
       "      <td>-1.000000</td>\n",
       "      <td>7.000000</td>\n",
       "      <td>1.000000</td>\n",
       "    </tr>\n",
       "    <tr>\n",
       "      <th>50%</th>\n",
       "      <td>8110.000000</td>\n",
       "      <td>3.000000</td>\n",
       "      <td>6.900000</td>\n",
       "      <td>0.280000</td>\n",
       "      <td>0.310000</td>\n",
       "      <td>3.900000</td>\n",
       "      <td>0.046000</td>\n",
       "      <td>30.000000</td>\n",
       "      <td>123.000000</td>\n",
       "      <td>0.994490</td>\n",
       "      <td>3.200000</td>\n",
       "      <td>0.500000</td>\n",
       "      <td>10.400000</td>\n",
       "      <td>0.000000</td>\n",
       "      <td>8.000000</td>\n",
       "      <td>2.000000</td>\n",
       "    </tr>\n",
       "    <tr>\n",
       "      <th>75%</th>\n",
       "      <td>12106.500000</td>\n",
       "      <td>4.000000</td>\n",
       "      <td>9.500000</td>\n",
       "      <td>0.640000</td>\n",
       "      <td>0.580000</td>\n",
       "      <td>15.900000</td>\n",
       "      <td>0.153000</td>\n",
       "      <td>70.000000</td>\n",
       "      <td>208.000000</td>\n",
       "      <td>1.000515</td>\n",
       "      <td>3.470000</td>\n",
       "      <td>0.860000</td>\n",
       "      <td>12.400000</td>\n",
       "      <td>1.000000</td>\n",
       "      <td>8.000000</td>\n",
       "      <td>3.000000</td>\n",
       "    </tr>\n",
       "    <tr>\n",
       "      <th>max</th>\n",
       "      <td>16129.000000</td>\n",
       "      <td>8.000000</td>\n",
       "      <td>34.400000</td>\n",
       "      <td>3.680000</td>\n",
       "      <td>3.860000</td>\n",
       "      <td>141.150000</td>\n",
       "      <td>1.351000</td>\n",
       "      <td>623.000000</td>\n",
       "      <td>1057.000000</td>\n",
       "      <td>1.099240</td>\n",
       "      <td>6.130000</td>\n",
       "      <td>4.240000</td>\n",
       "      <td>26.500000</td>\n",
       "      <td>2.000000</td>\n",
       "      <td>17.000000</td>\n",
       "      <td>4.000000</td>\n",
       "    </tr>\n",
       "  </tbody>\n",
       "</table>\n",
       "</div>"
      ],
      "text/plain": [
       "              INDEX        TARGET  FixedAcidity  VolatileAcidity  \\\n",
       "count  12795.000000  12795.000000  12795.000000     12795.000000   \n",
       "mean    8069.980305      3.029074      7.075717         0.324104   \n",
       "std     4656.905107      1.926368      6.317643         0.784014   \n",
       "min        1.000000      0.000000    -18.100000        -2.790000   \n",
       "25%     4037.500000      2.000000      5.200000         0.130000   \n",
       "50%     8110.000000      3.000000      6.900000         0.280000   \n",
       "75%    12106.500000      4.000000      9.500000         0.640000   \n",
       "max    16129.000000      8.000000     34.400000         3.680000   \n",
       "\n",
       "         CitricAcid  ResidualSugar     Chlorides  FreeSulfurDioxide  \\\n",
       "count  12795.000000   12179.000000  12157.000000       12148.000000   \n",
       "mean       0.308413       5.418733      0.054822          30.845571   \n",
       "std        0.862080      33.749379      0.318467         148.714558   \n",
       "min       -3.240000    -127.800000     -1.171000        -555.000000   \n",
       "25%        0.030000      -2.000000     -0.031000           0.000000   \n",
       "50%        0.310000       3.900000      0.046000          30.000000   \n",
       "75%        0.580000      15.900000      0.153000          70.000000   \n",
       "max        3.860000     141.150000      1.351000         623.000000   \n",
       "\n",
       "       TotalSulfurDioxide       Density            pH     Sulphates  \\\n",
       "count        12113.000000  12795.000000  12400.000000  11585.000000   \n",
       "mean           120.714233      0.994203      3.207628      0.527112   \n",
       "std            231.913211      0.026538      0.679687      0.932129   \n",
       "min           -823.000000      0.888090      0.480000     -3.130000   \n",
       "25%             27.000000      0.987720      2.960000      0.280000   \n",
       "50%            123.000000      0.994490      3.200000      0.500000   \n",
       "75%            208.000000      1.000515      3.470000      0.860000   \n",
       "max           1057.000000      1.099240      6.130000      4.240000   \n",
       "\n",
       "            Alcohol   LabelAppeal     AcidIndex        STARS  \n",
       "count  12142.000000  12795.000000  12795.000000  9436.000000  \n",
       "mean      10.489236     -0.009066      7.772724     2.041755  \n",
       "std        3.727819      0.891089      1.323926     0.902540  \n",
       "min       -4.700000     -2.000000      4.000000     1.000000  \n",
       "25%        9.000000     -1.000000      7.000000     1.000000  \n",
       "50%       10.400000      0.000000      8.000000     2.000000  \n",
       "75%       12.400000      1.000000      8.000000     3.000000  \n",
       "max       26.500000      2.000000     17.000000     4.000000  "
      ]
     },
     "execution_count": 11,
     "metadata": {},
     "output_type": "execute_result"
    }
   ],
   "source": [
    "original_df.describe() #data contains negative values"
   ]
  },
  {
   "cell_type": "code",
   "execution_count": 12,
   "metadata": {},
   "outputs": [
    {
     "data": {
      "text/plain": [
       "<matplotlib.axes._subplots.AxesSubplot at 0x1674f8f5a88>"
      ]
     },
     "execution_count": 12,
     "metadata": {},
     "output_type": "execute_result"
    },
    {
     "data": {
      "image/png": "[encoded data removed]",
      "text/plain": [
       "<Figure size 1296x432 with 2 Axes>"
      ]
     },
     "metadata": {
      "needs_background": "light"
     },
     "output_type": "display_data"
    }
   ],
   "source": [
    "plt.figure(figsize=(18,6))\n",
    "sns.heatmap(original_df.corr(),annot=True)"
   ]
  },
  {
   "cell_type": "code",
   "execution_count": 13,
   "metadata": {},
   "outputs": [],
   "source": [
    "test_df=original_df #for imputing missing values and fixing outliers"
   ]
  },
  {
   "cell_type": "code",
   "execution_count": 14,
   "metadata": {},
   "outputs": [
    {
     "name": "stdout",
     "output_type": "stream",
     "text": [
      "Fixed Acidity has 1621 negative values\n",
      "Volatile Acidity has 2827 negative values\n",
      "Citric Acid has 2966 negative values\n",
      "Residual Sugar has 3136 negative values\n",
      "Chlorides has 3197 negative values\n",
      "Free SulfurDioxide has 3036 negative values\n",
      "Total SulfurDioxide has 2504 negative values\n",
      "Sulphates has 2361 negative values\n",
      "Alcohol has 118 negative values\n"
     ]
    }
   ],
   "source": [
    "print('Fixed Acidity has', np.sum(test_df['FixedAcidity'] < 0), 'negative values')\n",
    "print('Volatile Acidity has', np.sum(test_df['VolatileAcidity'] < 0), 'negative values')\n",
    "print('Citric Acid has', np.sum(test_df['CitricAcid'] < 0), 'negative values')\n",
    "print('Residual Sugar has', np.sum(test_df['ResidualSugar'] < 0), 'negative values')\n",
    "print('Chlorides has', np.sum(test_df['Chlorides'] < 0), 'negative values')\n",
    "print('Free SulfurDioxide has', np.sum(test_df['FreeSulfurDioxide'] < 0), 'negative values')\n",
    "print('Total SulfurDioxide has', np.sum(test_df['TotalSulfurDioxide'] < 0), 'negative values')\n",
    "print('Sulphates has', np.sum(test_df['Sulphates'] < 0), 'negative values')\n",
    "print('Alcohol has', np.sum(test_df['Alcohol'] < 0), 'negative values')"
   ]
  },
  {
   "cell_type": "code",
   "execution_count": 15,
   "metadata": {},
   "outputs": [],
   "source": [
    "#fixing the negative values under the assumption that the negative sign was added accidently\n",
    "#fixed using absolute values of the columns containing negative values\n",
    "no_negative_df=original_df\n",
    "no_negative_df['FixedAcidity'] = abs(no_negative_df['FixedAcidity'])\n",
    "no_negative_df['VolatileAcidity'] = abs(no_negative_df['VolatileAcidity'])\n",
    "no_negative_df['CitricAcid'] = abs(no_negative_df['CitricAcid'])\n",
    "no_negative_df['ResidualSugar'] = abs(no_negative_df['ResidualSugar'])\n",
    "no_negative_df['Sulphates'] = abs(no_negative_df['Sulphates'])\n",
    "no_negative_df['Chlorides'] = abs(no_negative_df['Chlorides'])\n",
    "no_negative_df['FreeSulfurDioxide'] = abs(no_negative_df['FreeSulfurDioxide'])\n",
    "no_negative_df['TotalSulfurDioxide'] = abs(no_negative_df['TotalSulfurDioxide'])\n",
    "no_negative_df['Alcohol'] = abs(no_negative_df['Alcohol'])"
   ]
  },
  {
   "cell_type": "code",
   "execution_count": 16,
   "metadata": {},
   "outputs": [
    {
     "data": {
      "text/html": [
       "<div>\n",
       "<style scoped>\n",
       "    .dataframe tbody tr th:only-of-type {\n",
       "        vertical-align: middle;\n",
       "    }\n",
       "\n",
       "    .dataframe tbody tr th {\n",
       "        vertical-align: top;\n",
       "    }\n",
       "\n",
       "    .dataframe thead th {\n",
       "        text-align: right;\n",
       "    }\n",
       "</style>\n",
       "<table border=\"1\" class=\"dataframe\">\n",
       "  <thead>\n",
       "    <tr style=\"text-align: right;\">\n",
       "      <th></th>\n",
       "      <th>INDEX</th>\n",
       "      <th>TARGET</th>\n",
       "      <th>FixedAcidity</th>\n",
       "      <th>VolatileAcidity</th>\n",
       "      <th>CitricAcid</th>\n",
       "      <th>ResidualSugar</th>\n",
       "      <th>Chlorides</th>\n",
       "      <th>FreeSulfurDioxide</th>\n",
       "      <th>TotalSulfurDioxide</th>\n",
       "      <th>Density</th>\n",
       "      <th>pH</th>\n",
       "      <th>Sulphates</th>\n",
       "      <th>Alcohol</th>\n",
       "      <th>LabelAppeal</th>\n",
       "      <th>AcidIndex</th>\n",
       "      <th>STARS</th>\n",
       "    </tr>\n",
       "  </thead>\n",
       "  <tbody>\n",
       "    <tr>\n",
       "      <th>0</th>\n",
       "      <td>1</td>\n",
       "      <td>3</td>\n",
       "      <td>3.2</td>\n",
       "      <td>1.16</td>\n",
       "      <td>0.98</td>\n",
       "      <td>54.2</td>\n",
       "      <td>0.567</td>\n",
       "      <td>NaN</td>\n",
       "      <td>268.0</td>\n",
       "      <td>0.99280</td>\n",
       "      <td>3.33</td>\n",
       "      <td>0.59</td>\n",
       "      <td>9.9</td>\n",
       "      <td>0</td>\n",
       "      <td>8</td>\n",
       "      <td>2.0</td>\n",
       "    </tr>\n",
       "    <tr>\n",
       "      <th>1</th>\n",
       "      <td>2</td>\n",
       "      <td>3</td>\n",
       "      <td>4.5</td>\n",
       "      <td>0.16</td>\n",
       "      <td>0.81</td>\n",
       "      <td>26.1</td>\n",
       "      <td>0.425</td>\n",
       "      <td>15.0</td>\n",
       "      <td>327.0</td>\n",
       "      <td>1.02792</td>\n",
       "      <td>3.38</td>\n",
       "      <td>0.70</td>\n",
       "      <td>NaN</td>\n",
       "      <td>-1</td>\n",
       "      <td>7</td>\n",
       "      <td>3.0</td>\n",
       "    </tr>\n",
       "  </tbody>\n",
       "</table>\n",
       "</div>"
      ],
      "text/plain": [
       "   INDEX  TARGET  FixedAcidity  VolatileAcidity  CitricAcid  ResidualSugar  \\\n",
       "0      1       3           3.2             1.16        0.98           54.2   \n",
       "1      2       3           4.5             0.16        0.81           26.1   \n",
       "\n",
       "   Chlorides  FreeSulfurDioxide  TotalSulfurDioxide  Density    pH  Sulphates  \\\n",
       "0      0.567                NaN               268.0  0.99280  3.33       0.59   \n",
       "1      0.425               15.0               327.0  1.02792  3.38       0.70   \n",
       "\n",
       "   Alcohol  LabelAppeal  AcidIndex  STARS  \n",
       "0      9.9            0          8    2.0  \n",
       "1      NaN           -1          7    3.0  "
      ]
     },
     "execution_count": 16,
     "metadata": {},
     "output_type": "execute_result"
    }
   ],
   "source": [
    "test_df.head(2)"
   ]
  },
  {
   "cell_type": "code",
   "execution_count": 17,
   "metadata": {},
   "outputs": [],
   "source": [
    "imputer = IterativeImputer(random_state=0)  #impute missing values\n",
    "test_df.iloc[:,1:]=imputer.fit_transform(test_df.iloc[:,1:]) #replace df with imputed missing values"
   ]
  },
  {
   "cell_type": "code",
   "execution_count": 18,
   "metadata": {},
   "outputs": [
    {
     "data": {
      "text/plain": [
       "INDEX                 0\n",
       "TARGET                0\n",
       "FixedAcidity          0\n",
       "VolatileAcidity       0\n",
       "CitricAcid            0\n",
       "ResidualSugar         0\n",
       "Chlorides             0\n",
       "FreeSulfurDioxide     0\n",
       "TotalSulfurDioxide    0\n",
       "Density               0\n",
       "pH                    0\n",
       "Sulphates             0\n",
       "Alcohol               0\n",
       "LabelAppeal           0\n",
       "AcidIndex             0\n",
       "STARS                 0\n",
       "dtype: int64"
      ]
     },
     "execution_count": 18,
     "metadata": {},
     "output_type": "execute_result"
    }
   ],
   "source": [
    "test_df.isnull().sum()  #no missing values"
   ]
  },
  {
   "cell_type": "code",
   "execution_count": 19,
   "metadata": {},
   "outputs": [
    {
     "data": {
      "text/plain": [
       "Index(['INDEX', 'TARGET', 'FixedAcidity', 'VolatileAcidity', 'CitricAcid',\n",
       "       'ResidualSugar', 'Chlorides', 'FreeSulfurDioxide', 'TotalSulfurDioxide',\n",
       "       'Density', 'pH', 'Sulphates', 'Alcohol', 'LabelAppeal', 'AcidIndex',\n",
       "       'STARS'],\n",
       "      dtype='object')"
      ]
     },
     "execution_count": 19,
     "metadata": {},
     "output_type": "execute_result"
    }
   ],
   "source": [
    "test_df.columns"
   ]
  },
  {
   "cell_type": "code",
   "execution_count": 20,
   "metadata": {},
   "outputs": [],
   "source": [
    "#clean column headers\n",
    "test_df.columns=['INDEX', 'Target', 'FixedAcidity', 'VolatileAcidity', 'CitricAcid',\n",
    "       'ResidualSugar', 'Chlorides','FreeSulfurDioxide', 'TotalSulfurDioxide',\n",
    "       'Density', 'pH','Sulphates', 'Alcohol', 'LabelAppeal', 'AcidIndex',\n",
    "       'Stars']"
   ]
  },
  {
   "cell_type": "code",
   "execution_count": 21,
   "metadata": {},
   "outputs": [],
   "source": [
    "df=test_df #final dataset to be used for models"
   ]
  },
  {
   "cell_type": "code",
   "execution_count": 22,
   "metadata": {},
   "outputs": [
    {
     "data": {
      "text/plain": [
       "<matplotlib.axes._subplots.AxesSubplot at 0x16751040648>"
      ]
     },
     "execution_count": 22,
     "metadata": {},
     "output_type": "execute_result"
    },
    {
     "data": {
      "image/png": "[encoded data removed]",
      "text/plain": [
       "<Figure size 1296x432 with 2 Axes>"
      ]
     },
     "metadata": {
      "needs_background": "light"
     },
     "output_type": "display_data"
    }
   ],
   "source": [
    "#correlation heatmap\n",
    "#target and stars have a strong coorelation\n",
    "plt.figure(figsize=(18,6))\n",
    "sns.heatmap(df.corr(),annot=True)"
   ]
  },
  {
   "cell_type": "code",
   "execution_count": 23,
   "metadata": {},
   "outputs": [
    {
     "data": {
      "text/plain": [
       "<matplotlib.axes._subplots.AxesSubplot at 0x167516583c8>"
      ]
     },
     "execution_count": 23,
     "metadata": {},
     "output_type": "execute_result"
    },
    {
     "data": {
      "image/png": "[encoded data removed]",
      "text/plain": [
       "<Figure size 432x288 with 1 Axes>"
      ]
     },
     "metadata": {
      "needs_background": "light"
     },
     "output_type": "display_data"
    }
   ],
   "source": [
    "sns.lineplot(x=df['Target'], y=df['LabelAppeal'])"
   ]
  },
  {
   "cell_type": "code",
   "execution_count": 24,
   "metadata": {},
   "outputs": [
    {
     "data": {
      "text/plain": [
       "<matplotlib.axes._subplots.AxesSubplot at 0x1675167bd08>"
      ]
     },
     "execution_count": 24,
     "metadata": {},
     "output_type": "execute_result"
    },
    {
     "data": {
      "image/png": "[encoded data removed]",
      "text/plain": [
       "<Figure size 432x288 with 1 Axes>"
      ]
     },
     "metadata": {
      "needs_background": "light"
     },
     "output_type": "display_data"
    }
   ],
   "source": [
    "sns.lineplot(x=df['Target'], y=df['Stars'])"
   ]
  },
  {
   "cell_type": "markdown",
   "metadata": {},
   "source": [
    "##### Train, Validate and Test Data"
   ]
  },
  {
   "cell_type": "code",
   "execution_count": 25,
   "metadata": {},
   "outputs": [
    {
     "name": "stdout",
     "output_type": "stream",
     "text": [
      "Training :  (6397, 14)\n",
      "Validation :  (3838, 14)\n",
      "Test :  (2560, 14)\n"
     ]
    }
   ],
   "source": [
    "scaler = preprocessing.MinMaxScaler()\n",
    "scaler.fit(df.iloc[:,2:])\n",
    "\n",
    "df_scaled=pd.DataFrame(scaler.transform(df.iloc[:,2:]), columns=df.columns[2:])\n",
    "\n",
    "X = df_scaled #predictor variables\n",
    "y = df['Target'] #outcome variable\n",
    "\n",
    "#training (50%), validation (30%), and test (20%) partition\n",
    "train_X, temp_X, train_y, temp_y = train_test_split(X, y, test_size=0.5, random_state=1)\n",
    "valid_X, test_X, valid_y, test_y = train_test_split(temp_X, temp_y, test_size=0.4, random_state=1)\n",
    "\n",
    "print('Training : ', train_X.shape)\n",
    "print('Validation : ', valid_X.shape)\n",
    "print('Test : ', test_X.shape)"
   ]
  },
  {
   "cell_type": "markdown",
   "metadata": {},
   "source": [
    "# KNN Model"
   ]
  },
  {
   "cell_type": "code",
   "execution_count": 26,
   "metadata": {},
   "outputs": [
    {
     "data": {
      "text/plain": [
       "KNeighborsClassifier(algorithm='auto', leaf_size=30, metric='minkowski',\n",
       "                     metric_params=None, n_jobs=None, n_neighbors=1, p=2,\n",
       "                     weights='uniform')"
      ]
     },
     "execution_count": 26,
     "metadata": {},
     "output_type": "execute_result"
    }
   ],
   "source": [
    "knn = KNeighborsClassifier(n_neighbors=1)\n",
    "knn.fit(train_X,train_y)"
   ]
  },
  {
   "cell_type": "code",
   "execution_count": 27,
   "metadata": {},
   "outputs": [],
   "source": [
    "pred_knn = knn.predict(test_X)"
   ]
  },
  {
   "cell_type": "code",
   "execution_count": 28,
   "metadata": {},
   "outputs": [
    {
     "name": "stdout",
     "output_type": "stream",
     "text": [
      "[[273  12  55  83  92  30   2   0   0]\n",
      " [ 16  10  16   5   2   0   0   0   0]\n",
      " [ 42  17  65  81  26  10   2   0   0]\n",
      " [ 75  10  65 157 157  62   2   1   0]\n",
      " [ 66   1  15 144 239 130  29   3   0]\n",
      " [ 21   0   9  45 136 113  44  13   1]\n",
      " [  2   0   0  13  34  56  35   9   0]\n",
      " [  0   0   0   1   1  18   5   5   0]\n",
      " [  0   0   0   0   0   1   2   1   0]]\n"
     ]
    }
   ],
   "source": [
    "print(confusion_matrix(test_y,pred_knn))"
   ]
  },
  {
   "cell_type": "code",
   "execution_count": 29,
   "metadata": {},
   "outputs": [
    {
     "name": "stdout",
     "output_type": "stream",
     "text": [
      "              precision    recall  f1-score   support\n",
      "\n",
      "         0.0       0.55      0.50      0.52       547\n",
      "         1.0       0.20      0.20      0.20        49\n",
      "         2.0       0.29      0.27      0.28       243\n",
      "         3.0       0.30      0.30      0.30       529\n",
      "         4.0       0.35      0.38      0.36       627\n",
      "         5.0       0.27      0.30      0.28       382\n",
      "         6.0       0.29      0.23      0.26       149\n",
      "         7.0       0.16      0.17      0.16        30\n",
      "         8.0       0.00      0.00      0.00         4\n",
      "\n",
      "    accuracy                           0.35      2560\n",
      "   macro avg       0.27      0.26      0.26      2560\n",
      "weighted avg       0.35      0.35      0.35      2560\n",
      "\n"
     ]
    }
   ],
   "source": [
    "print(classification_report(test_y,pred_knn))"
   ]
  },
  {
   "cell_type": "code",
   "execution_count": 30,
   "metadata": {},
   "outputs": [
    {
     "name": "stdout",
     "output_type": "stream",
     "text": [
      "Training:\n",
      "\n",
      "Regression statistics\n",
      "\n",
      "               Mean Error (ME) : 0.0000\n",
      "Root Mean Squared Error (RMSE) : 0.0000\n",
      "     Mean Absolute Error (MAE) : 0.0000\n",
      "\n",
      "\n",
      "Validation:\n",
      "\n",
      "Regression statistics\n",
      "\n",
      "               Mean Error (ME) : -0.0896\n",
      "Root Mean Squared Error (RMSE) : 1.7750\n",
      "     Mean Absolute Error (MAE) : 1.2043\n",
      "\n",
      "\n",
      "Testing:\n",
      "\n",
      "Regression statistics\n",
      "\n",
      "               Mean Error (ME) : -0.0848\n",
      "Root Mean Squared Error (RMSE) : 1.7824\n",
      "     Mean Absolute Error (MAE) : 1.2230\n"
     ]
    }
   ],
   "source": [
    "#performance metrics\n",
    "print('Training:')\n",
    "regressionSummary(train_y, knn.predict(train_X))\n",
    "print('\\n')\n",
    "print('Validation:')\n",
    "regressionSummary(valid_y, knn.predict(valid_X))\n",
    "print('\\n')\n",
    "print('Testing:')\n",
    "regressionSummary(test_y, knn.predict(test_X))"
   ]
  },
  {
   "cell_type": "markdown",
   "metadata": {},
   "source": [
    "##### Finding Appropiate Hyperparameters"
   ]
  },
  {
   "cell_type": "code",
   "execution_count": 31,
   "metadata": {},
   "outputs": [],
   "source": [
    "error_rate = []\n",
    "\n",
    "# Will take some time\n",
    "for i in range(1,50):\n",
    "    \n",
    "    knn = KNeighborsClassifier(n_neighbors=i)\n",
    "    knn.fit(train_X,train_y)\n",
    "    pred_i = knn.predict(test_X)\n",
    "    error_rate.append(np.mean(pred_i != test_y))"
   ]
  },
  {
   "cell_type": "code",
   "execution_count": 32,
   "metadata": {},
   "outputs": [
    {
     "data": {
      "text/plain": [
       "Text(0, 0.5, 'Error Rate')"
      ]
     },
     "execution_count": 32,
     "metadata": {},
     "output_type": "execute_result"
    },
    {
     "data": {
      "image/png": "[encoded data removed]",
      "text/plain": [
       "<Figure size 1152x576 with 1 Axes>"
      ]
     },
     "metadata": {
      "needs_background": "light"
     },
     "output_type": "display_data"
    }
   ],
   "source": [
    "plt.figure(figsize=(16,8))\n",
    "plt.plot(range(1,50),error_rate,color='blue', linestyle='dashed', marker='o',\n",
    "         markerfacecolor='red', markersize=10)\n",
    "\n",
    "plt.title('Error Rate vs. K Value')\n",
    "plt.xlabel('K')\n",
    "plt.ylabel('Error Rate')"
   ]
  },
  {
   "cell_type": "code",
   "execution_count": 33,
   "metadata": {},
   "outputs": [
    {
     "name": "stdout",
     "output_type": "stream",
     "text": [
      "[[273  12  55  83  92  30   2   0   0]\n",
      " [ 16  10  16   5   2   0   0   0   0]\n",
      " [ 42  17  65  81  26  10   2   0   0]\n",
      " [ 75  10  65 157 157  62   2   1   0]\n",
      " [ 66   1  15 144 239 130  29   3   0]\n",
      " [ 21   0   9  45 136 113  44  13   1]\n",
      " [  2   0   0  13  34  56  35   9   0]\n",
      " [  0   0   0   1   1  18   5   5   0]\n",
      " [  0   0   0   0   0   1   2   1   0]]\n"
     ]
    }
   ],
   "source": [
    "# NOW WITH K=46\n",
    "print(confusion_matrix(test_y,pred_knn))"
   ]
  },
  {
   "cell_type": "code",
   "execution_count": 34,
   "metadata": {},
   "outputs": [
    {
     "name": "stdout",
     "output_type": "stream",
     "text": [
      "WITH K=46\n",
      "              precision    recall  f1-score   support\n",
      "\n",
      "         0.0       0.56      0.89      0.68       547\n",
      "         1.0       0.00      0.00      0.00        49\n",
      "         2.0       0.35      0.18      0.24       243\n",
      "         3.0       0.41      0.32      0.36       529\n",
      "         4.0       0.42      0.51      0.46       627\n",
      "         5.0       0.37      0.37      0.37       382\n",
      "         6.0       0.33      0.03      0.05       149\n",
      "         7.0       0.00      0.00      0.00        30\n",
      "         8.0       0.00      0.00      0.00         4\n",
      "\n",
      "    accuracy                           0.46      2560\n",
      "   macro avg       0.27      0.26      0.24      2560\n",
      "weighted avg       0.42      0.46      0.41      2560\n",
      "\n"
     ]
    }
   ],
   "source": [
    "# NOW WITH K=46\n",
    "knn = KNeighborsClassifier(n_neighbors=46, algorithm='auto', n_jobs=-1)\n",
    "\n",
    "knn.fit(train_X,train_y)\n",
    "pred_knn = knn.predict(test_X)\n",
    "\n",
    "print('WITH K=46')\n",
    "print(classification_report(test_y,pred_knn))"
   ]
  },
  {
   "cell_type": "code",
   "execution_count": 35,
   "metadata": {},
   "outputs": [
    {
     "name": "stdout",
     "output_type": "stream",
     "text": [
      "Training:\n",
      "\n",
      "Regression statistics\n",
      "\n",
      "               Mean Error (ME) : 0.5084\n",
      "Root Mean Squared Error (RMSE) : 1.5811\n",
      "     Mean Absolute Error (MAE) : 0.9364\n",
      "\n",
      "\n",
      "Validation:\n",
      "\n",
      "Regression statistics\n",
      "\n",
      "               Mean Error (ME) : 0.5224\n",
      "Root Mean Squared Error (RMSE) : 1.6365\n",
      "     Mean Absolute Error (MAE) : 0.9997\n",
      "\n",
      "\n",
      "Testing:\n",
      "\n",
      "Regression statistics\n",
      "\n",
      "               Mean Error (ME) : 0.4602\n",
      "Root Mean Squared Error (RMSE) : 1.5816\n",
      "     Mean Absolute Error (MAE) : 0.9836\n"
     ]
    }
   ],
   "source": [
    "#performance metrics\n",
    "print('Training:')\n",
    "regressionSummary(train_y, knn.predict(train_X))\n",
    "print('\\n')\n",
    "print('Validation:')\n",
    "regressionSummary(valid_y, knn.predict(valid_X))\n",
    "print('\\n')\n",
    "print('Testing:')\n",
    "regressionSummary(test_y, knn.predict(test_X))"
   ]
  },
  {
   "cell_type": "code",
   "execution_count": 36,
   "metadata": {},
   "outputs": [
    {
     "data": {
      "text/plain": [
       "Text(0, 0.5, 'Predicted Y')"
      ]
     },
     "execution_count": 36,
     "metadata": {},
     "output_type": "execute_result"
    },
    {
     "data": {
      "image/png": "[encoded data removed]",
      "text/plain": [
       "<Figure size 432x288 with 1 Axes>"
      ]
     },
     "metadata": {
      "needs_background": "light"
     },
     "output_type": "display_data"
    }
   ],
   "source": [
    "plt.scatter(test_y,pred_knn)\n",
    "plt.xlabel('Y Test')\n",
    "plt.ylabel('Predicted Y')"
   ]
  },
  {
   "cell_type": "code",
   "execution_count": 37,
   "metadata": {},
   "outputs": [
    {
     "data": {
      "text/plain": [
       "<matplotlib.axes._subplots.AxesSubplot at 0x16751558188>"
      ]
     },
     "execution_count": 37,
     "metadata": {},
     "output_type": "execute_result"
    },
    {
     "data": {
      "image/png": "[encoded data removed]",
      "text/plain": [
       "<Figure size 432x288 with 1 Axes>"
      ]
     },
     "metadata": {
      "needs_background": "light"
     },
     "output_type": "display_data"
    }
   ],
   "source": [
    "sns.distplot((test_y-pred_knn),bins=50)"
   ]
  },
  {
   "cell_type": "code",
   "execution_count": 38,
   "metadata": {},
   "outputs": [
    {
     "name": "stdout",
     "output_type": "stream",
     "text": [
      "For KNN Model, we got an accuracy of 45.5078125 %\n"
     ]
    }
   ],
   "source": [
    "print('For KNN Model, we got an accuracy of',(knn.score(test_X,test_y)*100),'%')"
   ]
  },
  {
   "cell_type": "markdown",
   "metadata": {},
   "source": [
    "# Support Vector Machine Model"
   ]
  },
  {
   "cell_type": "code",
   "execution_count": 39,
   "metadata": {},
   "outputs": [
    {
     "data": {
      "text/plain": [
       "SVC(C=1.0, break_ties=False, cache_size=200, class_weight=None, coef0=0.0,\n",
       "    decision_function_shape='ovr', degree=3, gamma='scale', kernel='rbf',\n",
       "    max_iter=-1, probability=False, random_state=None, shrinking=True,\n",
       "    tol=0.001, verbose=False)"
      ]
     },
     "execution_count": 39,
     "metadata": {},
     "output_type": "execute_result"
    }
   ],
   "source": [
    "svc_model = SVC()\n",
    "svc_model.fit(train_X,train_y)"
   ]
  },
  {
   "cell_type": "code",
   "execution_count": 40,
   "metadata": {},
   "outputs": [],
   "source": [
    "pred_svc = svc_model.predict(test_X)"
   ]
  },
  {
   "cell_type": "code",
   "execution_count": 41,
   "metadata": {},
   "outputs": [
    {
     "name": "stdout",
     "output_type": "stream",
     "text": [
      "[[524   0   4   5  12   2   0   0   0]\n",
      " [ 18   0  24   7   0   0   0   0   0]\n",
      " [ 88   0  33 101  20   1   0   0   0]\n",
      " [151   0  28 128 216   6   0   0   0]\n",
      " [136   0   1  58 335  97   0   0   0]\n",
      " [ 40   0   1  12 163 156  10   0   0]\n",
      " [  2   0   0   0  28  94  25   0   0]\n",
      " [  0   0   0   0   2  20   8   0   0]\n",
      " [  0   0   0   0   0   1   3   0   0]]\n"
     ]
    }
   ],
   "source": [
    "print(confusion_matrix(test_y,pred_svc))"
   ]
  },
  {
   "cell_type": "code",
   "execution_count": 42,
   "metadata": {},
   "outputs": [
    {
     "name": "stdout",
     "output_type": "stream",
     "text": [
      "              precision    recall  f1-score   support\n",
      "\n",
      "         0.0       0.55      0.96      0.70       547\n",
      "         1.0       0.00      0.00      0.00        49\n",
      "         2.0       0.36      0.14      0.20       243\n",
      "         3.0       0.41      0.24      0.30       529\n",
      "         4.0       0.43      0.53      0.48       627\n",
      "         5.0       0.41      0.41      0.41       382\n",
      "         6.0       0.54      0.17      0.26       149\n",
      "         7.0       0.00      0.00      0.00        30\n",
      "         8.0       0.00      0.00      0.00         4\n",
      "\n",
      "    accuracy                           0.47      2560\n",
      "   macro avg       0.30      0.27      0.26      2560\n",
      "weighted avg       0.44      0.47      0.42      2560\n",
      "\n"
     ]
    }
   ],
   "source": [
    "print(classification_report(test_y,pred_svc))"
   ]
  },
  {
   "cell_type": "code",
   "execution_count": 43,
   "metadata": {},
   "outputs": [
    {
     "name": "stdout",
     "output_type": "stream",
     "text": [
      "Training:\n",
      "\n",
      "Regression statistics\n",
      "\n",
      "               Mean Error (ME) : 0.5567\n",
      "Root Mean Squared Error (RMSE) : 1.6131\n",
      "     Mean Absolute Error (MAE) : 0.9409\n",
      "\n",
      "\n",
      "Validation:\n",
      "\n",
      "Regression statistics\n",
      "\n",
      "               Mean Error (ME) : 0.5644\n",
      "Root Mean Squared Error (RMSE) : 1.6506\n",
      "     Mean Absolute Error (MAE) : 0.9937\n",
      "\n",
      "\n",
      "Testing:\n",
      "\n",
      "Regression statistics\n",
      "\n",
      "               Mean Error (ME) : 0.5062\n",
      "Root Mean Squared Error (RMSE) : 1.5949\n",
      "     Mean Absolute Error (MAE) : 0.9734\n"
     ]
    }
   ],
   "source": [
    "#performance metrics\n",
    "print('Training:')\n",
    "regressionSummary(train_y, svc_model.predict(train_X))\n",
    "print('\\n')\n",
    "print('Validation:')\n",
    "regressionSummary(valid_y, svc_model.predict(valid_X))\n",
    "print('\\n')\n",
    "print('Testing:')\n",
    "regressionSummary(test_y, svc_model.predict(test_X))"
   ]
  },
  {
   "cell_type": "markdown",
   "metadata": {},
   "source": [
    "##### Finding Appropiate Hyperparameters"
   ]
  },
  {
   "cell_type": "code",
   "execution_count": 44,
   "metadata": {},
   "outputs": [
    {
     "name": "stdout",
     "output_type": "stream",
     "text": [
      "Improved parameters:  {'C': 10.0, 'gamma': 1.0}\n"
     ]
    }
   ],
   "source": [
    "# user grid search to find appropirate parameters\n",
    "\n",
    "param_grid = {\n",
    "    'C': [0.1,1.0, 10.0, 100.0], \n",
    "    'gamma': [1.0,0.1,0.01,0.001]\n",
    "}\n",
    "\n",
    "gridSearch = GridSearchCV(SVC(random_state=1), \n",
    "                          param_grid, cv=5, n_jobs=-1)\n",
    "gridSearch.fit(train_X, train_y)\n",
    "print('Improved parameters: ', gridSearch.best_params_)\n",
    "\n",
    "svc_new = gridSearch.best_estimator_"
   ]
  },
  {
   "cell_type": "code",
   "execution_count": 45,
   "metadata": {},
   "outputs": [
    {
     "data": {
      "text/plain": [
       "SVC(C=10.0, break_ties=False, cache_size=200, class_weight=None, coef0=0.0,\n",
       "    decision_function_shape='ovr', degree=3, gamma=1.0, kernel='rbf',\n",
       "    max_iter=-1, probability=False, random_state=None, shrinking=True,\n",
       "    tol=0.001, verbose=False)"
      ]
     },
     "execution_count": 45,
     "metadata": {},
     "output_type": "execute_result"
    }
   ],
   "source": [
    "svc_model = SVC(C= 10.0, gamma= 1.0)\n",
    "svc_model.fit(train_X,train_y)"
   ]
  },
  {
   "cell_type": "code",
   "execution_count": 46,
   "metadata": {},
   "outputs": [],
   "source": [
    "pred_svc = svc_model.predict(test_X)"
   ]
  },
  {
   "cell_type": "code",
   "execution_count": 47,
   "metadata": {},
   "outputs": [
    {
     "name": "stdout",
     "output_type": "stream",
     "text": [
      "[[503   1  12  17  12   2   0   0   0]\n",
      " [  8   3  29   9   0   0   0   0   0]\n",
      " [ 50   2  64 110  16   1   0   0   0]\n",
      " [113   0  43 161 204   8   0   0   0]\n",
      " [128   0   4  70 318 104   3   0   0]\n",
      " [ 35   0   1  19 154 153  20   0   0]\n",
      " [  2   0   1   0  26  83  36   1   0]\n",
      " [  0   0   0   0   2  18   9   1   0]\n",
      " [  0   0   0   0   0   1   3   0   0]]\n"
     ]
    }
   ],
   "source": [
    "print(confusion_matrix(test_y,pred_svc))"
   ]
  },
  {
   "cell_type": "code",
   "execution_count": 48,
   "metadata": {},
   "outputs": [
    {
     "name": "stdout",
     "output_type": "stream",
     "text": [
      "              precision    recall  f1-score   support\n",
      "\n",
      "         0.0       0.60      0.92      0.73       547\n",
      "         1.0       0.50      0.06      0.11        49\n",
      "         2.0       0.42      0.26      0.32       243\n",
      "         3.0       0.42      0.30      0.35       529\n",
      "         4.0       0.43      0.51      0.47       627\n",
      "         5.0       0.41      0.40      0.41       382\n",
      "         6.0       0.51      0.24      0.33       149\n",
      "         7.0       0.50      0.03      0.06        30\n",
      "         8.0       0.00      0.00      0.00         4\n",
      "\n",
      "    accuracy                           0.48      2560\n",
      "   macro avg       0.42      0.30      0.31      2560\n",
      "weighted avg       0.47      0.48      0.46      2560\n",
      "\n"
     ]
    }
   ],
   "source": [
    "print(classification_report(test_y,pred_svc))"
   ]
  },
  {
   "cell_type": "code",
   "execution_count": 49,
   "metadata": {},
   "outputs": [
    {
     "name": "stdout",
     "output_type": "stream",
     "text": [
      "Training:\n",
      "\n",
      "Regression statistics\n",
      "\n",
      "               Mean Error (ME) : 0.4013\n",
      "Root Mean Squared Error (RMSE) : 1.4604\n",
      "     Mean Absolute Error (MAE) : 0.7824\n",
      "\n",
      "\n",
      "Validation:\n",
      "\n",
      "Regression statistics\n",
      "\n",
      "               Mean Error (ME) : 0.4468\n",
      "Root Mean Squared Error (RMSE) : 1.5737\n",
      "     Mean Absolute Error (MAE) : 0.9304\n",
      "\n",
      "\n",
      "Testing:\n",
      "\n",
      "Regression statistics\n",
      "\n",
      "               Mean Error (ME) : 0.3852\n",
      "Root Mean Squared Error (RMSE) : 1.5281\n",
      "     Mean Absolute Error (MAE) : 0.9141\n"
     ]
    }
   ],
   "source": [
    "#performance metrics\n",
    "print('Training:')\n",
    "regressionSummary(train_y, svc_model.predict(train_X))\n",
    "print('\\n')\n",
    "print('Validation:')\n",
    "regressionSummary(valid_y, svc_model.predict(valid_X))\n",
    "print('\\n')\n",
    "print('Testing:')\n",
    "regressionSummary(test_y, svc_model.predict(test_X))"
   ]
  },
  {
   "cell_type": "code",
   "execution_count": 50,
   "metadata": {},
   "outputs": [
    {
     "data": {
      "text/plain": [
       "Text(0, 0.5, 'Predicted Y')"
      ]
     },
     "execution_count": 50,
     "metadata": {},
     "output_type": "execute_result"
    },
    {
     "data": {
      "image/png": "[encoded data removed]",
      "text/plain": [
       "<Figure size 432x288 with 1 Axes>"
      ]
     },
     "metadata": {
      "needs_background": "light"
     },
     "output_type": "display_data"
    }
   ],
   "source": [
    "plt.scatter(test_y,pred_svc)\n",
    "plt.xlabel('Y Test')\n",
    "plt.ylabel('Predicted Y')"
   ]
  },
  {
   "cell_type": "code",
   "execution_count": 51,
   "metadata": {},
   "outputs": [
    {
     "data": {
      "text/plain": [
       "<matplotlib.axes._subplots.AxesSubplot at 0x16751c58608>"
      ]
     },
     "execution_count": 51,
     "metadata": {},
     "output_type": "execute_result"
    },
    {
     "data": {
      "image/png": "[encoded data removed]",
      "text/plain": [
       "<Figure size 432x288 with 1 Axes>"
      ]
     },
     "metadata": {
      "needs_background": "light"
     },
     "output_type": "display_data"
    }
   ],
   "source": [
    "sns.distplot((test_y-pred_svc),bins=50)"
   ]
  },
  {
   "cell_type": "code",
   "execution_count": 52,
   "metadata": {},
   "outputs": [
    {
     "name": "stdout",
     "output_type": "stream",
     "text": [
      "For SVC Model, we got an accuracy of 48.3984375 %\n"
     ]
    }
   ],
   "source": [
    "print('For SVC Model, we got an accuracy of',(svc_model.score(test_X,test_y)*100),'%')"
   ]
  },
  {
   "cell_type": "markdown",
   "metadata": {},
   "source": [
    "# LassoCV Regression Model"
   ]
  },
  {
   "cell_type": "code",
   "execution_count": 53,
   "metadata": {},
   "outputs": [
    {
     "data": {
      "text/plain": [
       "LassoCV(alphas=None, copy_X=True, cv=5, eps=0.001, fit_intercept=True,\n",
       "        max_iter=1000, n_alphas=100, n_jobs=None, normalize=True,\n",
       "        positive=False, precompute='auto', random_state=None,\n",
       "        selection='cyclic', tol=0.0001, verbose=False)"
      ]
     },
     "execution_count": 53,
     "metadata": {},
     "output_type": "execute_result"
    }
   ],
   "source": [
    "# train LassoCV regression model\n",
    "reg = LassoCV(normalize=True, cv=5)\n",
    "reg.fit(train_X, train_y)"
   ]
  },
  {
   "cell_type": "code",
   "execution_count": 54,
   "metadata": {},
   "outputs": [],
   "source": [
    "pred_lassoCV = reg.predict(test_X)"
   ]
  },
  {
   "cell_type": "code",
   "execution_count": 55,
   "metadata": {},
   "outputs": [
    {
     "name": "stdout",
     "output_type": "stream",
     "text": [
      "Training:\n",
      "\n",
      "Regression statistics\n",
      "\n",
      "               Mean Error (ME) : 0.0000\n",
      "Root Mean Squared Error (RMSE) : 1.3402\n",
      "     Mean Absolute Error (MAE) : 1.1016\n",
      "\n",
      "\n",
      "Validation:\n",
      "\n",
      "Regression statistics\n",
      "\n",
      "               Mean Error (ME) : 0.0219\n",
      "Root Mean Squared Error (RMSE) : 1.3374\n",
      "     Mean Absolute Error (MAE) : 1.0966\n",
      "\n",
      "\n",
      "Testing:\n",
      "\n",
      "Regression statistics\n",
      "\n",
      "               Mean Error (ME) : -0.0539\n",
      "Root Mean Squared Error (RMSE) : 1.3217\n",
      "     Mean Absolute Error (MAE) : 1.0841\n"
     ]
    }
   ],
   "source": [
    "#performance metrics\n",
    "print('Training:')\n",
    "regressionSummary(train_y, reg.predict(train_X))\n",
    "print('\\n')\n",
    "print('Validation:')\n",
    "regressionSummary(valid_y, reg.predict(valid_X))\n",
    "print('\\n')\n",
    "print('Testing:')\n",
    "regressionSummary(test_y, reg.predict(test_X))"
   ]
  },
  {
   "cell_type": "code",
   "execution_count": 56,
   "metadata": {},
   "outputs": [
    {
     "name": "stdout",
     "output_type": "stream",
     "text": [
      "For LassoCV Regression Model, we got an accuracy of 52.618344546147846 %\n"
     ]
    }
   ],
   "source": [
    "print('For LassoCV Regression Model, we got an accuracy of',(reg.score(test_X,test_y)*100),'%')"
   ]
  },
  {
   "cell_type": "markdown",
   "metadata": {},
   "source": [
    "# Ridge Regression Model"
   ]
  },
  {
   "cell_type": "code",
   "execution_count": 57,
   "metadata": {},
   "outputs": [
    {
     "data": {
      "text/plain": [
       "Ridge(alpha=1.0, copy_X=True, fit_intercept=True, max_iter=None, normalize=True,\n",
       "      random_state=None, solver='auto', tol=0.001)"
      ]
     },
     "execution_count": 57,
     "metadata": {},
     "output_type": "execute_result"
    }
   ],
   "source": [
    "# train Ridge regression model\n",
    "reg2 = Ridge(normalize=True, alpha=1.0)\n",
    "reg2.fit(train_X, train_y)"
   ]
  },
  {
   "cell_type": "code",
   "execution_count": 58,
   "metadata": {},
   "outputs": [],
   "source": [
    "pred_ridge = reg2.predict(test_X)"
   ]
  },
  {
   "cell_type": "code",
   "execution_count": 59,
   "metadata": {},
   "outputs": [
    {
     "name": "stdout",
     "output_type": "stream",
     "text": [
      "Training:\n",
      "\n",
      "Regression statistics\n",
      "\n",
      "               Mean Error (ME) : 0.0000\n",
      "Root Mean Squared Error (RMSE) : 1.4774\n",
      "     Mean Absolute Error (MAE) : 1.1984\n",
      "\n",
      "\n",
      "Validation:\n",
      "\n",
      "Regression statistics\n",
      "\n",
      "               Mean Error (ME) : 0.0018\n",
      "Root Mean Squared Error (RMSE) : 1.4678\n",
      "     Mean Absolute Error (MAE) : 1.1860\n",
      "\n",
      "\n",
      "Testing:\n",
      "\n",
      "Regression statistics\n",
      "\n",
      "               Mean Error (ME) : -0.0480\n",
      "Root Mean Squared Error (RMSE) : 1.4589\n",
      "     Mean Absolute Error (MAE) : 1.1811\n"
     ]
    }
   ],
   "source": [
    "#performance metrics\n",
    "print('Training:')\n",
    "regressionSummary(train_y, reg2.predict(train_X))\n",
    "print('\\n')\n",
    "print('Validation:')\n",
    "regressionSummary(valid_y, reg2.predict(valid_X))\n",
    "print('\\n')\n",
    "print('Testing:')\n",
    "regressionSummary(test_y, reg2.predict(test_X))"
   ]
  },
  {
   "cell_type": "code",
   "execution_count": 60,
   "metadata": {},
   "outputs": [
    {
     "name": "stdout",
     "output_type": "stream",
     "text": [
      "For Ridge Regression Model, we got an accuracy of 42.26800385040945 %\n"
     ]
    }
   ],
   "source": [
    "print('For Ridge Regression Model, we got an accuracy of',(reg2.score(test_X,test_y)*100),'%')"
   ]
  },
  {
   "cell_type": "markdown",
   "metadata": {},
   "source": [
    "# Random Forest Model"
   ]
  },
  {
   "cell_type": "code",
   "execution_count": 61,
   "metadata": {},
   "outputs": [
    {
     "name": "stdout",
     "output_type": "stream",
     "text": [
      "Improved parameters:  {}\n",
      "AdaBoostClassifier(algorithm='SAMME.R',\n",
      "                   base_estimator=RandomForestClassifier(bootstrap=True,\n",
      "                                                         ccp_alpha=0.0,\n",
      "                                                         class_weight=None,\n",
      "                                                         criterion='gini',\n",
      "                                                         max_depth=8,\n",
      "                                                         max_features=8,\n",
      "                                                         max_leaf_nodes=None,\n",
      "                                                         max_samples=0.7,\n",
      "                                                         min_impurity_decrease=0.0,\n",
      "                                                         min_impurity_split=None,\n",
      "                                                         min_samples_leaf=1,\n",
      "                                                         min_samples_split=3,\n",
      "                                                         min_weight_fraction_leaf=0.0,\n",
      "                                                         n_estimators=100,\n",
      "                                                         n_jobs=None,\n",
      "                                                         oob_score=False,\n",
      "                                                         random_state=1,\n",
      "                                                         verbose=0,\n",
      "                                                         warm_start=False),\n",
      "                   learning_rate=1.0, n_estimators=100, random_state=1)\n"
     ]
    }
   ],
   "source": [
    "clf = AdaBoostClassifier(RandomForestClassifier(max_depth=8,min_samples_split=3,\n",
    "                                                min_samples_leaf=1,max_samples=0.7,\n",
    "                                                max_features=8,random_state=1), n_estimators=100, random_state=1)\n",
    "\n",
    "param_grid = {}\n",
    "\n",
    "gridSearch = GridSearchCV(clf, \n",
    "                          param_grid, cv=5, n_jobs=-1)\n",
    "gridSearch.fit(train_X, train_y)\n",
    "print('Improved parameters: ', gridSearch.best_params_)\n",
    "\n",
    "rfc = gridSearch.best_estimator_\n",
    "\n",
    "print(rfc)"
   ]
  },
  {
   "cell_type": "code",
   "execution_count": 62,
   "metadata": {},
   "outputs": [],
   "source": [
    "rfc = RandomForestClassifier(bootstrap=True,\n",
    "                                                         ccp_alpha=0.0,\n",
    "                                                         class_weight=None,\n",
    "                                                         criterion='gini',\n",
    "                                                         max_depth=8,\n",
    "                                                         max_features=8,\n",
    "                                                         max_leaf_nodes=None,\n",
    "                                                         max_samples=0.7,\n",
    "                                                         min_impurity_decrease=0.0,\n",
    "                                                         min_impurity_split=None,\n",
    "                                                         min_samples_leaf=1,\n",
    "                                                         min_samples_split=3,\n",
    "                                                         min_weight_fraction_leaf=0.0,\n",
    "                                                         n_estimators=100,\n",
    "                                                         n_jobs=None,\n",
    "                                                         oob_score=False,\n",
    "                                                         random_state=1,\n",
    "                                                         verbose=0,\n",
    "                                                         warm_start=False)"
   ]
  },
  {
   "cell_type": "code",
   "execution_count": 63,
   "metadata": {},
   "outputs": [
    {
     "data": {
      "text/plain": [
       "RandomForestClassifier(bootstrap=True, ccp_alpha=0.0, class_weight=None,\n",
       "                       criterion='gini', max_depth=8, max_features=8,\n",
       "                       max_leaf_nodes=None, max_samples=0.7,\n",
       "                       min_impurity_decrease=0.0, min_impurity_split=None,\n",
       "                       min_samples_leaf=1, min_samples_split=3,\n",
       "                       min_weight_fraction_leaf=0.0, n_estimators=100,\n",
       "                       n_jobs=None, oob_score=False, random_state=1, verbose=0,\n",
       "                       warm_start=False)"
      ]
     },
     "execution_count": 63,
     "metadata": {},
     "output_type": "execute_result"
    }
   ],
   "source": [
    "rfc.fit(train_X,train_y)"
   ]
  },
  {
   "cell_type": "code",
   "execution_count": 64,
   "metadata": {},
   "outputs": [],
   "source": [
    "pred_rfc = rfc.predict(test_X)"
   ]
  },
  {
   "cell_type": "code",
   "execution_count": 65,
   "metadata": {},
   "outputs": [
    {
     "name": "stdout",
     "output_type": "stream",
     "text": [
      "              precision    recall  f1-score   support\n",
      "\n",
      "         0.0       0.91      0.81      0.86       547\n",
      "         1.0       1.00      0.51      0.68        49\n",
      "         2.0       0.64      0.55      0.59       243\n",
      "         3.0       0.49      0.53      0.51       529\n",
      "         4.0       0.49      0.64      0.56       627\n",
      "         5.0       0.47      0.48      0.48       382\n",
      "         6.0       0.55      0.23      0.32       149\n",
      "         7.0       0.00      0.00      0.00        30\n",
      "         8.0       0.00      0.00      0.00         4\n",
      "\n",
      "    accuracy                           0.59      2560\n",
      "   macro avg       0.51      0.42      0.44      2560\n",
      "weighted avg       0.60      0.59      0.59      2560\n",
      "\n"
     ]
    }
   ],
   "source": [
    "print(classification_report(test_y,pred_rfc))"
   ]
  },
  {
   "cell_type": "code",
   "execution_count": 66,
   "metadata": {},
   "outputs": [
    {
     "name": "stdout",
     "output_type": "stream",
     "text": [
      "[[444   0  11  59  30   3   0   0   0]\n",
      " [  0  25  13  11   0   0   0   0   0]\n",
      " [  2   0 134  89  17   1   0   0   0]\n",
      " [  7   0  45 281 189   7   0   0   0]\n",
      " [ 14   0   4 115 403  91   0   0   0]\n",
      " [ 17   0   2  19 147 184  13   0   0]\n",
      " [  2   0   0   0  26  87  34   0   0]\n",
      " [  0   0   0   0   3  15  12   0   0]\n",
      " [  0   0   0   0   0   1   3   0   0]]\n"
     ]
    }
   ],
   "source": [
    "print(confusion_matrix(test_y,pred_rfc))"
   ]
  },
  {
   "cell_type": "code",
   "execution_count": 67,
   "metadata": {},
   "outputs": [
    {
     "name": "stdout",
     "output_type": "stream",
     "text": [
      "Training:\n",
      "\n",
      "Regression statistics\n",
      "\n",
      "               Mean Error (ME) : -0.0244\n",
      "Root Mean Squared Error (RMSE) : 0.9999\n",
      "     Mean Absolute Error (MAE) : 0.5005\n",
      "\n",
      "\n",
      "Validation:\n",
      "\n",
      "Regression statistics\n",
      "\n",
      "               Mean Error (ME) : -0.0112\n",
      "Root Mean Squared Error (RMSE) : 1.0851\n",
      "     Mean Absolute Error (MAE) : 0.5745\n",
      "\n",
      "\n",
      "Testing:\n",
      "\n",
      "Regression statistics\n",
      "\n",
      "               Mean Error (ME) : -0.0258\n",
      "Root Mean Squared Error (RMSE) : 1.1170\n",
      "     Mean Absolute Error (MAE) : 0.6008\n"
     ]
    }
   ],
   "source": [
    "#performance metrics\n",
    "print('Training:')\n",
    "regressionSummary(train_y, rfc.predict(train_X))\n",
    "print('\\n')\n",
    "print('Validation:')\n",
    "regressionSummary(valid_y, rfc.predict(valid_X))\n",
    "print('\\n')\n",
    "print('Testing:')\n",
    "regressionSummary(test_y, rfc.predict(test_X))"
   ]
  },
  {
   "cell_type": "code",
   "execution_count": 68,
   "metadata": {},
   "outputs": [
    {
     "data": {
      "text/plain": [
       "Text(0, 0.5, 'Predicted Y')"
      ]
     },
     "execution_count": 68,
     "metadata": {},
     "output_type": "execute_result"
    },
    {
     "data": {
      "image/png": "[encoded data removed]",
      "text/plain": [
       "<Figure size 432x288 with 1 Axes>"
      ]
     },
     "metadata": {
      "needs_background": "light"
     },
     "output_type": "display_data"
    }
   ],
   "source": [
    "plt.scatter(test_y,pred_rfc)\n",
    "plt.xlabel('Y Test')\n",
    "plt.ylabel('Predicted Y')"
   ]
  },
  {
   "cell_type": "code",
   "execution_count": 69,
   "metadata": {},
   "outputs": [
    {
     "data": {
      "text/plain": [
       "<matplotlib.axes._subplots.AxesSubplot at 0x1676cfadd48>"
      ]
     },
     "execution_count": 69,
     "metadata": {},
     "output_type": "execute_result"
    },
    {
     "data": {
      "image/png": "[encoded data removed]",
      "text/plain": [
       "<Figure size 432x288 with 1 Axes>"
      ]
     },
     "metadata": {
      "needs_background": "light"
     },
     "output_type": "display_data"
    }
   ],
   "source": [
    "sns.distplot((test_y-pred_rfc),bins=50)"
   ]
  },
  {
   "cell_type": "code",
   "execution_count": 70,
   "metadata": {},
   "outputs": [
    {
     "name": "stdout",
     "output_type": "stream",
     "text": [
      "For Random Forest Model, we got an accuracy of 58.7890625 %\n"
     ]
    }
   ],
   "source": [
    "print('For Random Forest Model, we got an accuracy of',(rfc.score(test_X,test_y)*100),'%')"
   ]
  },
  {
   "cell_type": "markdown",
   "metadata": {},
   "source": [
    "# Decision Tree Model"
   ]
  },
  {
   "cell_type": "code",
   "execution_count": 71,
   "metadata": {},
   "outputs": [
    {
     "name": "stdout",
     "output_type": "stream",
     "text": [
      "AdaBoostClassifier(algorithm='SAMME.R',\n",
      "                   base_estimator=DecisionTreeClassifier(ccp_alpha=0.0,\n",
      "                                                         class_weight=None,\n",
      "                                                         criterion='gini',\n",
      "                                                         max_depth=6,\n",
      "                                                         max_features=10,\n",
      "                                                         max_leaf_nodes=None,\n",
      "                                                         min_impurity_decrease=0.0,\n",
      "                                                         min_impurity_split=None,\n",
      "                                                         min_samples_leaf=5,\n",
      "                                                         min_samples_split=2,\n",
      "                                                         min_weight_fraction_leaf=0.0,\n",
      "                                                         presort='deprecated',\n",
      "                                                         random_state=1,\n",
      "                                                         splitter='best'),\n",
      "                   learning_rate=1.0, n_estimators=100, random_state=1)\n"
     ]
    }
   ],
   "source": [
    "clf = AdaBoostClassifier(DecisionTreeClassifier(max_depth=6,min_samples_split=2,\n",
    "                                               min_samples_leaf=5,max_features=10,random_state=1), \n",
    "                         n_estimators=100, random_state=1)\n",
    "\n",
    "param_grid = {}\n",
    "gridSearch = GridSearchCV(clf, \n",
    "                          param_grid, cv=5, n_jobs=-1)\n",
    "gridSearch.fit(train_X, train_y)\n",
    "\n",
    "clf = gridSearch.best_estimator_\n",
    "\n",
    "print(clf)"
   ]
  },
  {
   "cell_type": "code",
   "execution_count": 72,
   "metadata": {},
   "outputs": [],
   "source": [
    "dtree = DecisionTreeClassifier(ccp_alpha=0.0,\n",
    "                                                         class_weight=None,\n",
    "                                                         criterion='gini',\n",
    "                                                         max_depth=6,\n",
    "                                                         max_features=10,\n",
    "                                                         max_leaf_nodes=None,\n",
    "                                                         min_impurity_decrease=0.0,\n",
    "                                                         min_impurity_split=None,\n",
    "                                                         min_samples_leaf=5,\n",
    "                                                         min_samples_split=2,\n",
    "                                                         min_weight_fraction_leaf=0.0,\n",
    "                                                         presort='deprecated',\n",
    "                                                         random_state=1,\n",
    "                                                         splitter='best',)"
   ]
  },
  {
   "cell_type": "code",
   "execution_count": 73,
   "metadata": {},
   "outputs": [
    {
     "data": {
      "text/plain": [
       "DecisionTreeClassifier(ccp_alpha=0.0, class_weight=None, criterion='gini',\n",
       "                       max_depth=6, max_features=10, max_leaf_nodes=None,\n",
       "                       min_impurity_decrease=0.0, min_impurity_split=None,\n",
       "                       min_samples_leaf=5, min_samples_split=2,\n",
       "                       min_weight_fraction_leaf=0.0, presort='deprecated',\n",
       "                       random_state=1, splitter='best')"
      ]
     },
     "execution_count": 73,
     "metadata": {},
     "output_type": "execute_result"
    }
   ],
   "source": [
    "dtree.fit(train_X,train_y)"
   ]
  },
  {
   "cell_type": "code",
   "execution_count": 74,
   "metadata": {},
   "outputs": [],
   "source": [
    "pred_dtree = dtree.predict(test_X)"
   ]
  },
  {
   "cell_type": "code",
   "execution_count": 75,
   "metadata": {},
   "outputs": [
    {
     "name": "stdout",
     "output_type": "stream",
     "text": [
      "              precision    recall  f1-score   support\n",
      "\n",
      "         0.0       0.86      0.80      0.83       547\n",
      "         1.0       0.46      0.45      0.45        49\n",
      "         2.0       0.87      0.36      0.51       243\n",
      "         3.0       0.45      0.62      0.52       529\n",
      "         4.0       0.48      0.53      0.50       627\n",
      "         5.0       0.45      0.49      0.47       382\n",
      "         6.0       0.53      0.17      0.26       149\n",
      "         7.0       0.00      0.00      0.00        30\n",
      "         8.0       0.00      0.00      0.00         4\n",
      "\n",
      "    accuracy                           0.56      2560\n",
      "   macro avg       0.45      0.38      0.39      2560\n",
      "weighted avg       0.58      0.56      0.55      2560\n",
      "\n"
     ]
    }
   ],
   "source": [
    "print(classification_report(test_y,pred_dtree))"
   ]
  },
  {
   "cell_type": "code",
   "execution_count": 76,
   "metadata": {},
   "outputs": [
    {
     "name": "stdout",
     "output_type": "stream",
     "text": [
      "[[437   7   0  89  10   4   0   0   0]\n",
      " [  0  22   6  21   0   0   0   0   0]\n",
      " [  2  11  88 129  12   1   0   0   0]\n",
      " [  5   8   7 327 173   9   0   0   0]\n",
      " [ 41   0   0 141 333 112   0   0   0]\n",
      " [ 24   0   0  25 133 189  11   0   0]\n",
      " [  2   0   0   0  32  89  26   0   0]\n",
      " [  0   0   0   0   2  19   9   0   0]\n",
      " [  0   0   0   0   0   1   3   0   0]]\n"
     ]
    }
   ],
   "source": [
    "print(confusion_matrix(test_y,pred_dtree))"
   ]
  },
  {
   "cell_type": "code",
   "execution_count": 77,
   "metadata": {},
   "outputs": [
    {
     "name": "stdout",
     "output_type": "stream",
     "text": [
      "Training:\n",
      "\n",
      "Regression statistics\n",
      "\n",
      "               Mean Error (ME) : 0.0411\n",
      "Root Mean Squared Error (RMSE) : 1.1934\n",
      "     Mean Absolute Error (MAE) : 0.6486\n",
      "\n",
      "\n",
      "Validation:\n",
      "\n",
      "Regression statistics\n",
      "\n",
      "               Mean Error (ME) : 0.0362\n",
      "Root Mean Squared Error (RMSE) : 1.1896\n",
      "     Mean Absolute Error (MAE) : 0.6407\n",
      "\n",
      "\n",
      "Testing:\n",
      "\n",
      "Regression statistics\n",
      "\n",
      "               Mean Error (ME) : 0.0141\n",
      "Root Mean Squared Error (RMSE) : 1.2219\n",
      "     Mean Absolute Error (MAE) : 0.6797\n"
     ]
    }
   ],
   "source": [
    "#performance metrics\n",
    "print('Training:')\n",
    "regressionSummary(train_y, dtree.predict(train_X))\n",
    "print('\\n')\n",
    "print('Validation:')\n",
    "regressionSummary(valid_y, dtree.predict(valid_X))\n",
    "print('\\n')\n",
    "print('Testing:')\n",
    "regressionSummary(test_y, dtree.predict(test_X))"
   ]
  },
  {
   "cell_type": "code",
   "execution_count": 78,
   "metadata": {},
   "outputs": [
    {
     "data": {
      "text/plain": [
       "Text(0, 0.5, 'Predicted Y')"
      ]
     },
     "execution_count": 78,
     "metadata": {},
     "output_type": "execute_result"
    },
    {
     "data": {
      "image/png": "[encoded data removed]",
      "text/plain": [
       "<Figure size 432x288 with 1 Axes>"
      ]
     },
     "metadata": {
      "needs_background": "light"
     },
     "output_type": "display_data"
    }
   ],
   "source": [
    "plt.scatter(test_y,pred_dtree)\n",
    "plt.xlabel('Y Test')\n",
    "plt.ylabel('Predicted Y')"
   ]
  },
  {
   "cell_type": "code",
   "execution_count": 79,
   "metadata": {},
   "outputs": [
    {
     "data": {
      "text/plain": [
       "<matplotlib.axes._subplots.AxesSubplot at 0x1676bfac308>"
      ]
     },
     "execution_count": 79,
     "metadata": {},
     "output_type": "execute_result"
    },
    {
     "data": {
      "image/png": "[encoded data removed]",
      "text/plain": [
       "<Figure size 432x288 with 1 Axes>"
      ]
     },
     "metadata": {
      "needs_background": "light"
     },
     "output_type": "display_data"
    }
   ],
   "source": [
    "sns.distplot((test_y-pred_dtree),bins=50)"
   ]
  },
  {
   "cell_type": "code",
   "execution_count": 80,
   "metadata": {},
   "outputs": [
    {
     "name": "stdout",
     "output_type": "stream",
     "text": [
      "For Decision Tree Model, we got an accuracy of 55.54687499999999 %\n"
     ]
    }
   ],
   "source": [
    "print('For Decision Tree Model, we got an accuracy of',(dtree.score(test_X,test_y)*100),'%')"
   ]
  },
  {
   "cell_type": "markdown",
   "metadata": {},
   "source": [
    "# MLP Classifier"
   ]
  },
  {
   "cell_type": "code",
   "execution_count": 81,
   "metadata": {},
   "outputs": [
    {
     "data": {
      "text/plain": [
       "[(1, 1),\n",
       " (1, 2),\n",
       " (1, 3),\n",
       " (1, 4),\n",
       " (1, 5),\n",
       " (1, 6),\n",
       " (1, 7),\n",
       " (1, 8),\n",
       " (1, 9),\n",
       " (2, 1),\n",
       " (2, 2),\n",
       " (2, 3),\n",
       " (2, 4),\n",
       " (2, 5),\n",
       " (2, 6),\n",
       " (2, 7),\n",
       " (2, 8),\n",
       " (2, 9),\n",
       " (3, 1),\n",
       " (3, 2),\n",
       " (3, 3),\n",
       " (3, 4),\n",
       " (3, 5),\n",
       " (3, 6),\n",
       " (3, 7),\n",
       " (3, 8),\n",
       " (3, 9),\n",
       " (4, 1),\n",
       " (4, 2),\n",
       " (4, 3),\n",
       " (4, 4),\n",
       " (4, 5),\n",
       " (4, 6),\n",
       " (4, 7),\n",
       " (4, 8),\n",
       " (4, 9),\n",
       " (5, 1),\n",
       " (5, 2),\n",
       " (5, 3),\n",
       " (5, 4),\n",
       " (5, 5),\n",
       " (5, 6),\n",
       " (5, 7),\n",
       " (5, 8),\n",
       " (5, 9)]"
      ]
     },
     "execution_count": 81,
     "metadata": {},
     "output_type": "execute_result"
    }
   ],
   "source": [
    "hidden_layer=[]\n",
    "for l in range(1,6):\n",
    "    for n in range(1,10):\n",
    "        hidden_layer.append((l,n))\n",
    "hidden_layer"
   ]
  },
  {
   "cell_type": "code",
   "execution_count": 82,
   "metadata": {},
   "outputs": [
    {
     "name": "stdout",
     "output_type": "stream",
     "text": [
      "Initial score:  0.575425625488663\n",
      "Initial parameters:  {'activation': 'tanh', 'hidden_layer_sizes': (4, 9)}\n"
     ]
    }
   ],
   "source": [
    "from sklearn.neural_network import MLPClassifier\n",
    "\n",
    "param_grid = {\n",
    "    'hidden_layer_sizes': hidden_layer,\n",
    "    'activation':  ['identity', 'logistic', 'tanh', 'relu'],\n",
    "    }\n",
    "\n",
    "gridSearch = GridSearchCV(MLPClassifier(#activation='logistic',\n",
    "    solver='lbfgs', \n",
    "    random_state=1,max_iter=1000),param_grid, cv=5, n_jobs=-1, return_train_score=True)\n",
    "gridSearch.fit(train_X, train_y)\n",
    "print('Initial score: ', gridSearch.best_score_)\n",
    "print('Initial parameters: ', gridSearch.best_params_)"
   ]
  },
  {
   "cell_type": "code",
   "execution_count": 83,
   "metadata": {},
   "outputs": [
    {
     "name": "stdout",
     "output_type": "stream",
     "text": [
      "    param_hidden_layer_sizes  mean_test_score  std_test_score\n",
      "0                     (1, 1)         0.402066        0.009623\n",
      "1                     (1, 2)         0.402066        0.009422\n",
      "2                     (1, 3)         0.402066        0.009422\n",
      "3                     (1, 4)         0.401909        0.009495\n",
      "4                     (1, 5)         0.402535        0.009468\n",
      "..                       ...              ...             ...\n",
      "175                   (5, 5)         0.498670        0.007622\n",
      "176                   (5, 6)         0.510867        0.015638\n",
      "177                   (5, 7)         0.526178        0.023533\n",
      "178                   (5, 8)         0.539942        0.011159\n",
      "179                   (5, 9)         0.493666        0.059884\n",
      "\n",
      "[180 rows x 3 columns]\n"
     ]
    }
   ],
   "source": [
    "display=['param_hidden_layer_sizes', 'mean_test_score', 'std_test_score']\n",
    "print(pd.DataFrame(gridSearch.cv_results_)[display])"
   ]
  },
  {
   "cell_type": "code",
   "execution_count": 84,
   "metadata": {},
   "outputs": [
    {
     "data": {
      "text/plain": [
       "MLPClassifier(activation='tanh', alpha=0.0001, batch_size='auto', beta_1=0.9,\n",
       "              beta_2=0.999, early_stopping=False, epsilon=1e-08,\n",
       "              hidden_layer_sizes=(4, 9), learning_rate='constant',\n",
       "              learning_rate_init=0.001, max_fun=15000, max_iter=300,\n",
       "              momentum=0.9, n_iter_no_change=10, nesterovs_momentum=True,\n",
       "              power_t=0.5, random_state=1, shuffle=True, solver='lbfgs',\n",
       "              tol=0.0001, validation_fraction=0.1, verbose=False,\n",
       "              warm_start=False)"
      ]
     },
     "execution_count": 84,
     "metadata": {},
     "output_type": "execute_result"
    }
   ],
   "source": [
    "from sklearn.neural_network import MLPClassifier\n",
    "# train neural network with 2 hidden nodes\n",
    "clf = MLPClassifier(hidden_layer_sizes=(4,9), activation='tanh', solver='lbfgs',\n",
    "                    random_state=1,max_iter=300)\n",
    "clf.fit(train_X, train_y.values)"
   ]
  },
  {
   "cell_type": "code",
   "execution_count": 85,
   "metadata": {},
   "outputs": [],
   "source": [
    "pred_clf = clf.predict(test_X)"
   ]
  },
  {
   "cell_type": "code",
   "execution_count": 86,
   "metadata": {},
   "outputs": [
    {
     "name": "stdout",
     "output_type": "stream",
     "text": [
      "              precision    recall  f1-score   support\n",
      "\n",
      "         0.0       0.82      0.84      0.83       547\n",
      "         1.0       1.00      0.49      0.66        49\n",
      "         2.0       0.69      0.45      0.55       243\n",
      "         3.0       0.48      0.51      0.50       529\n",
      "         4.0       0.44      0.60      0.51       627\n",
      "         5.0       0.44      0.38      0.41       382\n",
      "         6.0       0.53      0.28      0.36       149\n",
      "         7.0       0.00      0.00      0.00        30\n",
      "         8.0       0.00      0.00      0.00         4\n",
      "\n",
      "    accuracy                           0.56      2560\n",
      "   macro avg       0.49      0.39      0.42      2560\n",
      "weighted avg       0.56      0.56      0.55      2560\n",
      "\n"
     ]
    }
   ],
   "source": [
    "print(classification_report(test_y,pred_clf))"
   ]
  },
  {
   "cell_type": "code",
   "execution_count": 87,
   "metadata": {},
   "outputs": [
    {
     "name": "stdout",
     "output_type": "stream",
     "text": [
      "Training:\n",
      "\n",
      "Regression statistics\n",
      "\n",
      "               Mean Error (ME) : 0.0846\n",
      "Root Mean Squared Error (RMSE) : 1.2408\n",
      "     Mean Absolute Error (MAE) : 0.6686\n",
      "\n",
      "\n",
      "Validation:\n",
      "\n",
      "Regression statistics\n",
      "\n",
      "               Mean Error (ME) : 0.0766\n",
      "Root Mean Squared Error (RMSE) : 1.2129\n",
      "     Mean Absolute Error (MAE) : 0.6571\n",
      "\n",
      "\n",
      "Testing:\n",
      "\n",
      "Regression statistics\n",
      "\n",
      "               Mean Error (ME) : 0.0566\n",
      "Root Mean Squared Error (RMSE) : 1.2570\n",
      "     Mean Absolute Error (MAE) : 0.6871\n"
     ]
    }
   ],
   "source": [
    "print('Training:')\n",
    "regressionSummary(train_y, clf.predict(train_X))\n",
    "print('\\n')\n",
    "print('Validation:')\n",
    "regressionSummary(valid_y, clf.predict(valid_X))\n",
    "print('\\n')\n",
    "print('Testing:')\n",
    "regressionSummary(test_y, clf.predict(test_X))"
   ]
  },
  {
   "cell_type": "code",
   "execution_count": 88,
   "metadata": {},
   "outputs": [
    {
     "name": "stdout",
     "output_type": "stream",
     "text": [
      "For MLPClassifier Model, we got an accuracy of 55.703125 %\n"
     ]
    }
   ],
   "source": [
    "print('For MLPClassifier Model, we got an accuracy of',(clf.score(test_X,test_y)*100),'%')"
   ]
  },
  {
   "cell_type": "markdown",
   "metadata": {},
   "source": [
    "# Gradient Boosting"
   ]
  },
  {
   "cell_type": "code",
   "execution_count": null,
   "metadata": {},
   "outputs": [],
   "source": [
    "#computationally expensive to run\n",
    "clf = AdaBoostClassifier(GradientBoostingClassifier(min_samples_split=9,min_samples_leaf=1,\n",
    "                                                    max_depth=6,subsample=0.75,max_features=10,\n",
    "                                                    learning_rate=0.13,random_state=1), \n",
    "                         n_estimators=2000, random_state=1)\n",
    "\n",
    "param_grid = {}\n",
    "gridSearch = GridSearchCV(clf, \n",
    "                          param_grid, cv=5, n_jobs=-1)\n",
    "gridSearch.fit(train_X, train_y)\n",
    "\n",
    "clf = gridSearch.best_estimator_\n",
    "\n",
    "print(clf)"
   ]
  },
  {
   "cell_type": "code",
   "execution_count": 89,
   "metadata": {},
   "outputs": [],
   "source": [
    "gb = GradientBoostingClassifier()"
   ]
  },
  {
   "cell_type": "code",
   "execution_count": 90,
   "metadata": {},
   "outputs": [
    {
     "data": {
      "text/plain": [
       "GradientBoostingClassifier(ccp_alpha=0.0, criterion='friedman_mse', init=None,\n",
       "                           learning_rate=0.1, loss='deviance', max_depth=3,\n",
       "                           max_features=None, max_leaf_nodes=None,\n",
       "                           min_impurity_decrease=0.0, min_impurity_split=None,\n",
       "                           min_samples_leaf=1, min_samples_split=2,\n",
       "                           min_weight_fraction_leaf=0.0, n_estimators=100,\n",
       "                           n_iter_no_change=None, presort='deprecated',\n",
       "                           random_state=None, subsample=1.0, tol=0.0001,\n",
       "                           validation_fraction=0.1, verbose=0,\n",
       "                           warm_start=False)"
      ]
     },
     "execution_count": 90,
     "metadata": {},
     "output_type": "execute_result"
    }
   ],
   "source": [
    "gb.fit(train_X,train_y)"
   ]
  },
  {
   "cell_type": "code",
   "execution_count": 91,
   "metadata": {},
   "outputs": [],
   "source": [
    "pred_gb = gb.predict(test_X)"
   ]
  },
  {
   "cell_type": "code",
   "execution_count": 92,
   "metadata": {},
   "outputs": [
    {
     "name": "stdout",
     "output_type": "stream",
     "text": [
      "Training:\n",
      "\n",
      "Regression statistics\n",
      "\n",
      "               Mean Error (ME) : -0.0330\n",
      "Root Mean Squared Error (RMSE) : 0.8888\n",
      "     Mean Absolute Error (MAE) : 0.3894\n",
      "\n",
      "\n",
      "Validation:\n",
      "\n",
      "Regression statistics\n",
      "\n",
      "               Mean Error (ME) : -0.0284\n",
      "Root Mean Squared Error (RMSE) : 1.0470\n",
      "     Mean Absolute Error (MAE) : 0.5578\n",
      "\n",
      "\n",
      "Testing:\n",
      "\n",
      "Regression statistics\n",
      "\n",
      "               Mean Error (ME) : -0.0543\n",
      "Root Mean Squared Error (RMSE) : 1.0838\n",
      "     Mean Absolute Error (MAE) : 0.5840\n"
     ]
    }
   ],
   "source": [
    "#performance metrics\n",
    "print('Training:')\n",
    "regressionSummary(train_y, gb.predict(train_X))\n",
    "print('\\n')\n",
    "print('Validation:')\n",
    "regressionSummary(valid_y, gb.predict(valid_X))\n",
    "print('\\n')\n",
    "print('Testing:')\n",
    "regressionSummary(test_y, gb.predict(test_X))"
   ]
  },
  {
   "cell_type": "code",
   "execution_count": 93,
   "metadata": {},
   "outputs": [
    {
     "data": {
      "text/plain": [
       "Text(0, 0.5, 'Predicted Y')"
      ]
     },
     "execution_count": 93,
     "metadata": {},
     "output_type": "execute_result"
    },
    {
     "data": {
      "image/png": "[encoded data removed]",
      "text/plain": [
       "<Figure size 432x288 with 1 Axes>"
      ]
     },
     "metadata": {
      "needs_background": "light"
     },
     "output_type": "display_data"
    }
   ],
   "source": [
    "plt.scatter(test_y,pred_gb)\n",
    "plt.xlabel('Y Test')\n",
    "plt.ylabel('Predicted Y')"
   ]
  },
  {
   "cell_type": "code",
   "execution_count": 94,
   "metadata": {},
   "outputs": [
    {
     "data": {
      "text/plain": [
       "<matplotlib.axes._subplots.AxesSubplot at 0x16768f9d048>"
      ]
     },
     "execution_count": 94,
     "metadata": {},
     "output_type": "execute_result"
    },
    {
     "data": {
      "image/png": "[encoded data removed]",
      "text/plain": [
       "<Figure size 432x288 with 1 Axes>"
      ]
     },
     "metadata": {
      "needs_background": "light"
     },
     "output_type": "display_data"
    }
   ],
   "source": [
    "sns.distplot((test_y-pred_gb),bins=50)"
   ]
  },
  {
   "cell_type": "code",
   "execution_count": 95,
   "metadata": {},
   "outputs": [
    {
     "name": "stdout",
     "output_type": "stream",
     "text": [
      "For GradientBoostingRegressor Model, we got an accuracy of 59.29687500000001 %\n"
     ]
    }
   ],
   "source": [
    "print('For GradientBoostingRegressor Model, we got an accuracy of',(gb.score(test_X,test_y)*100),'%')"
   ]
  },
  {
   "cell_type": "markdown",
   "metadata": {},
   "source": [
    "# Extra Tree Classifier"
   ]
  },
  {
   "cell_type": "code",
   "execution_count": 96,
   "metadata": {},
   "outputs": [
    {
     "name": "stdout",
     "output_type": "stream",
     "text": [
      "AdaBoostClassifier(algorithm='SAMME.R',\n",
      "                   base_estimator=ExtraTreesClassifier(bootstrap=False,\n",
      "                                                       ccp_alpha=0.0,\n",
      "                                                       class_weight=None,\n",
      "                                                       criterion='gini',\n",
      "                                                       max_depth=6,\n",
      "                                                       max_features=10,\n",
      "                                                       max_leaf_nodes=None,\n",
      "                                                       max_samples=None,\n",
      "                                                       min_impurity_decrease=0.0,\n",
      "                                                       min_impurity_split=None,\n",
      "                                                       min_samples_leaf=5,\n",
      "                                                       min_samples_split=2,\n",
      "                                                       min_weight_fraction_leaf=0.0,\n",
      "                                                       n_estimators=100,\n",
      "                                                       n_jobs=None,\n",
      "                                                       oob_score=False,\n",
      "                                                       random_state=1,\n",
      "                                                       verbose=0,\n",
      "                                                       warm_start=False),\n",
      "                   learning_rate=1.0, n_estimators=100, random_state=1)\n"
     ]
    }
   ],
   "source": [
    "clf = AdaBoostClassifier(ExtraTreesClassifier(max_depth=6,min_samples_split=2,\n",
    "                                               min_samples_leaf=5,max_features=10,random_state=1), \n",
    "                         n_estimators=100, random_state=1)\n",
    "\n",
    "param_grid = {}\n",
    "gridSearch = GridSearchCV(clf, \n",
    "                          param_grid, cv=5, n_jobs=-1)\n",
    "gridSearch.fit(train_X, train_y)\n",
    "\n",
    "clf = gridSearch.best_estimator_\n",
    "\n",
    "print(clf)"
   ]
  },
  {
   "cell_type": "code",
   "execution_count": 97,
   "metadata": {},
   "outputs": [],
   "source": [
    "etree = ExtraTreesClassifier(bootstrap=False,\n",
    "                                                       ccp_alpha=0.0,\n",
    "                                                       class_weight=None,\n",
    "                                                       criterion='gini',\n",
    "                                                       max_depth=6,\n",
    "                                                       max_features=10,\n",
    "                                                       max_leaf_nodes=None,\n",
    "                                                       max_samples=None,\n",
    "                                                       min_impurity_decrease=0.0,\n",
    "                                                       min_impurity_split=None,\n",
    "                                                       min_samples_leaf=5,\n",
    "                                                       min_samples_split=2,\n",
    "                                                       min_weight_fraction_leaf=0.0,\n",
    "                                                       n_estimators=100,\n",
    "                                                       n_jobs=None,\n",
    "                                                       oob_score=False,\n",
    "                                                       random_state=1,\n",
    "                                                       verbose=0,\n",
    "                                                       warm_start=False)"
   ]
  },
  {
   "cell_type": "code",
   "execution_count": 98,
   "metadata": {},
   "outputs": [
    {
     "data": {
      "text/plain": [
       "ExtraTreesClassifier(bootstrap=False, ccp_alpha=0.0, class_weight=None,\n",
       "                     criterion='gini', max_depth=6, max_features=10,\n",
       "                     max_leaf_nodes=None, max_samples=None,\n",
       "                     min_impurity_decrease=0.0, min_impurity_split=None,\n",
       "                     min_samples_leaf=5, min_samples_split=2,\n",
       "                     min_weight_fraction_leaf=0.0, n_estimators=100,\n",
       "                     n_jobs=None, oob_score=False, random_state=1, verbose=0,\n",
       "                     warm_start=False)"
      ]
     },
     "execution_count": 98,
     "metadata": {},
     "output_type": "execute_result"
    }
   ],
   "source": [
    "etree.fit(train_X,train_y)"
   ]
  },
  {
   "cell_type": "code",
   "execution_count": 99,
   "metadata": {},
   "outputs": [],
   "source": [
    "pred_etree = etree.predict(test_X)"
   ]
  },
  {
   "cell_type": "code",
   "execution_count": 100,
   "metadata": {},
   "outputs": [
    {
     "name": "stdout",
     "output_type": "stream",
     "text": [
      "Training:\n",
      "\n",
      "Regression statistics\n",
      "\n",
      "               Mean Error (ME) : 0.4086\n",
      "Root Mean Squared Error (RMSE) : 1.4839\n",
      "     Mean Absolute Error (MAE) : 0.8026\n",
      "\n",
      "\n",
      "Validation:\n",
      "\n",
      "Regression statistics\n",
      "\n",
      "               Mean Error (ME) : 0.4151\n",
      "Root Mean Squared Error (RMSE) : 1.5207\n",
      "     Mean Absolute Error (MAE) : 0.8351\n",
      "\n",
      "\n",
      "Testing:\n",
      "\n",
      "Regression statistics\n",
      "\n",
      "               Mean Error (ME) : 0.3656\n",
      "Root Mean Squared Error (RMSE) : 1.4668\n",
      "     Mean Absolute Error (MAE) : 0.8102\n"
     ]
    }
   ],
   "source": [
    "#performance metrics\n",
    "print('Training:')\n",
    "regressionSummary(train_y, etree.predict(train_X))\n",
    "print('\\n')\n",
    "print('Validation:')\n",
    "regressionSummary(valid_y, etree.predict(valid_X))\n",
    "print('\\n')\n",
    "print('Testing:')\n",
    "regressionSummary(test_y, etree.predict(test_X))"
   ]
  },
  {
   "cell_type": "code",
   "execution_count": 101,
   "metadata": {},
   "outputs": [
    {
     "name": "stdout",
     "output_type": "stream",
     "text": [
      "For Extra Tree Classifier Model, we got an accuracy of 55.5078125 %\n"
     ]
    }
   ],
   "source": [
    "print('For Extra Tree Classifier Model, we got an accuracy of',(etree.score(test_X,test_y)*100),'%')"
   ]
  },
  {
   "cell_type": "markdown",
   "metadata": {},
   "source": [
    "# TEST MODEL VS ACTUALS"
   ]
  },
  {
   "cell_type": "code",
   "execution_count": 102,
   "metadata": {},
   "outputs": [],
   "source": [
    "#dataframe to compare actual values vs the predicted values\n",
    "test = pd.DataFrame({'Actual': test_y, 'KNN': pred_knn,\n",
    "                     'SVC': pred_svc, 'Lasso': pred_lassoCV,\n",
    "                     'Ridge':pred_ridge, 'Random Forest': pred_rfc,\n",
    "                     'Decision Tree': pred_dtree, \n",
    "                     'MLPClassifier': pred_clf,\n",
    "                     'Gradient Boosting': pred_gb, 'Extra Tree' : pred_etree}) "
   ]
  },
  {
   "cell_type": "code",
   "execution_count": 103,
   "metadata": {},
   "outputs": [
    {
     "data": {
      "text/html": [
       "<div>\n",
       "<style scoped>\n",
       "    .dataframe tbody tr th:only-of-type {\n",
       "        vertical-align: middle;\n",
       "    }\n",
       "\n",
       "    .dataframe tbody tr th {\n",
       "        vertical-align: top;\n",
       "    }\n",
       "\n",
       "    .dataframe thead th {\n",
       "        text-align: right;\n",
       "    }\n",
       "</style>\n",
       "<table border=\"1\" class=\"dataframe\">\n",
       "  <thead>\n",
       "    <tr style=\"text-align: right;\">\n",
       "      <th></th>\n",
       "      <th>Actual</th>\n",
       "      <th>KNN</th>\n",
       "      <th>SVC</th>\n",
       "      <th>Lasso</th>\n",
       "      <th>Ridge</th>\n",
       "      <th>Random Forest</th>\n",
       "      <th>Decision Tree</th>\n",
       "      <th>MLPClassifier</th>\n",
       "      <th>Gradient Boosting</th>\n",
       "      <th>Extra Tree</th>\n",
       "    </tr>\n",
       "  </thead>\n",
       "  <tbody>\n",
       "    <tr>\n",
       "      <th>12025</th>\n",
       "      <td>4.0</td>\n",
       "      <td>3.0</td>\n",
       "      <td>4.0</td>\n",
       "      <td>3.262933</td>\n",
       "      <td>3.120608</td>\n",
       "      <td>4.0</td>\n",
       "      <td>4.0</td>\n",
       "      <td>3.0</td>\n",
       "      <td>2.0</td>\n",
       "      <td>4.0</td>\n",
       "    </tr>\n",
       "    <tr>\n",
       "      <th>8355</th>\n",
       "      <td>5.0</td>\n",
       "      <td>4.0</td>\n",
       "      <td>5.0</td>\n",
       "      <td>3.619470</td>\n",
       "      <td>3.460845</td>\n",
       "      <td>5.0</td>\n",
       "      <td>5.0</td>\n",
       "      <td>5.0</td>\n",
       "      <td>4.0</td>\n",
       "      <td>4.0</td>\n",
       "    </tr>\n",
       "    <tr>\n",
       "      <th>5305</th>\n",
       "      <td>3.0</td>\n",
       "      <td>0.0</td>\n",
       "      <td>0.0</td>\n",
       "      <td>1.722692</td>\n",
       "      <td>2.285066</td>\n",
       "      <td>3.0</td>\n",
       "      <td>3.0</td>\n",
       "      <td>4.0</td>\n",
       "      <td>4.0</td>\n",
       "      <td>0.0</td>\n",
       "    </tr>\n",
       "    <tr>\n",
       "      <th>4625</th>\n",
       "      <td>6.0</td>\n",
       "      <td>5.0</td>\n",
       "      <td>5.0</td>\n",
       "      <td>4.742942</td>\n",
       "      <td>3.976265</td>\n",
       "      <td>5.0</td>\n",
       "      <td>5.0</td>\n",
       "      <td>5.0</td>\n",
       "      <td>5.0</td>\n",
       "      <td>5.0</td>\n",
       "    </tr>\n",
       "    <tr>\n",
       "      <th>10778</th>\n",
       "      <td>0.0</td>\n",
       "      <td>0.0</td>\n",
       "      <td>0.0</td>\n",
       "      <td>1.231434</td>\n",
       "      <td>1.917329</td>\n",
       "      <td>0.0</td>\n",
       "      <td>0.0</td>\n",
       "      <td>0.0</td>\n",
       "      <td>0.0</td>\n",
       "      <td>0.0</td>\n",
       "    </tr>\n",
       "    <tr>\n",
       "      <th>...</th>\n",
       "      <td>...</td>\n",
       "      <td>...</td>\n",
       "      <td>...</td>\n",
       "      <td>...</td>\n",
       "      <td>...</td>\n",
       "      <td>...</td>\n",
       "      <td>...</td>\n",
       "      <td>...</td>\n",
       "      <td>...</td>\n",
       "      <td>...</td>\n",
       "    </tr>\n",
       "    <tr>\n",
       "      <th>10621</th>\n",
       "      <td>6.0</td>\n",
       "      <td>6.0</td>\n",
       "      <td>6.0</td>\n",
       "      <td>5.371140</td>\n",
       "      <td>4.424551</td>\n",
       "      <td>6.0</td>\n",
       "      <td>6.0</td>\n",
       "      <td>6.0</td>\n",
       "      <td>6.0</td>\n",
       "      <td>6.0</td>\n",
       "    </tr>\n",
       "    <tr>\n",
       "      <th>5313</th>\n",
       "      <td>0.0</td>\n",
       "      <td>3.0</td>\n",
       "      <td>4.0</td>\n",
       "      <td>2.367835</td>\n",
       "      <td>2.554405</td>\n",
       "      <td>4.0</td>\n",
       "      <td>4.0</td>\n",
       "      <td>3.0</td>\n",
       "      <td>4.0</td>\n",
       "      <td>4.0</td>\n",
       "    </tr>\n",
       "    <tr>\n",
       "      <th>2694</th>\n",
       "      <td>0.0</td>\n",
       "      <td>0.0</td>\n",
       "      <td>0.0</td>\n",
       "      <td>2.508976</td>\n",
       "      <td>2.902660</td>\n",
       "      <td>0.0</td>\n",
       "      <td>0.0</td>\n",
       "      <td>0.0</td>\n",
       "      <td>0.0</td>\n",
       "      <td>0.0</td>\n",
       "    </tr>\n",
       "    <tr>\n",
       "      <th>858</th>\n",
       "      <td>4.0</td>\n",
       "      <td>5.0</td>\n",
       "      <td>5.0</td>\n",
       "      <td>6.208523</td>\n",
       "      <td>4.804378</td>\n",
       "      <td>5.0</td>\n",
       "      <td>5.0</td>\n",
       "      <td>5.0</td>\n",
       "      <td>6.0</td>\n",
       "      <td>5.0</td>\n",
       "    </tr>\n",
       "    <tr>\n",
       "      <th>8378</th>\n",
       "      <td>5.0</td>\n",
       "      <td>4.0</td>\n",
       "      <td>4.0</td>\n",
       "      <td>3.367932</td>\n",
       "      <td>3.184718</td>\n",
       "      <td>4.0</td>\n",
       "      <td>4.0</td>\n",
       "      <td>4.0</td>\n",
       "      <td>4.0</td>\n",
       "      <td>4.0</td>\n",
       "    </tr>\n",
       "  </tbody>\n",
       "</table>\n",
       "<p>2560 rows × 10 columns</p>\n",
       "</div>"
      ],
      "text/plain": [
       "       Actual  KNN  SVC     Lasso     Ridge  Random Forest  Decision Tree  \\\n",
       "12025     4.0  3.0  4.0  3.262933  3.120608            4.0            4.0   \n",
       "8355      5.0  4.0  5.0  3.619470  3.460845            5.0            5.0   \n",
       "5305      3.0  0.0  0.0  1.722692  2.285066            3.0            3.0   \n",
       "4625      6.0  5.0  5.0  4.742942  3.976265            5.0            5.0   \n",
       "10778     0.0  0.0  0.0  1.231434  1.917329            0.0            0.0   \n",
       "...       ...  ...  ...       ...       ...            ...            ...   \n",
       "10621     6.0  6.0  6.0  5.371140  4.424551            6.0            6.0   \n",
       "5313      0.0  3.0  4.0  2.367835  2.554405            4.0            4.0   \n",
       "2694      0.0  0.0  0.0  2.508976  2.902660            0.0            0.0   \n",
       "858       4.0  5.0  5.0  6.208523  4.804378            5.0            5.0   \n",
       "8378      5.0  4.0  4.0  3.367932  3.184718            4.0            4.0   \n",
       "\n",
       "       MLPClassifier  Gradient Boosting  Extra Tree  \n",
       "12025            3.0                2.0         4.0  \n",
       "8355             5.0                4.0         4.0  \n",
       "5305             4.0                4.0         0.0  \n",
       "4625             5.0                5.0         5.0  \n",
       "10778            0.0                0.0         0.0  \n",
       "...              ...                ...         ...  \n",
       "10621            6.0                6.0         6.0  \n",
       "5313             3.0                4.0         4.0  \n",
       "2694             0.0                0.0         0.0  \n",
       "858              5.0                6.0         5.0  \n",
       "8378             4.0                4.0         4.0  \n",
       "\n",
       "[2560 rows x 10 columns]"
      ]
     },
     "execution_count": 103,
     "metadata": {},
     "output_type": "execute_result"
    }
   ],
   "source": [
    "test"
   ]
  },
  {
   "cell_type": "code",
   "execution_count": 104,
   "metadata": {},
   "outputs": [
    {
     "data": {
      "text/html": [
       "<div>\n",
       "<style scoped>\n",
       "    .dataframe tbody tr th:only-of-type {\n",
       "        vertical-align: middle;\n",
       "    }\n",
       "\n",
       "    .dataframe tbody tr th {\n",
       "        vertical-align: top;\n",
       "    }\n",
       "\n",
       "    .dataframe thead th {\n",
       "        text-align: right;\n",
       "    }\n",
       "</style>\n",
       "<table border=\"1\" class=\"dataframe\">\n",
       "  <thead>\n",
       "    <tr style=\"text-align: right;\">\n",
       "      <th></th>\n",
       "      <th>Actual</th>\n",
       "      <th>KNN</th>\n",
       "      <th>SVC</th>\n",
       "      <th>Lasso</th>\n",
       "      <th>Ridge</th>\n",
       "      <th>Random Forest</th>\n",
       "      <th>Decision Tree</th>\n",
       "      <th>MLPClassifier</th>\n",
       "      <th>Gradient Boosting</th>\n",
       "      <th>Extra Tree</th>\n",
       "    </tr>\n",
       "  </thead>\n",
       "  <tbody>\n",
       "    <tr>\n",
       "      <th>count</th>\n",
       "      <td>2560.000000</td>\n",
       "      <td>2560.000000</td>\n",
       "      <td>2560.000000</td>\n",
       "      <td>2560.000000</td>\n",
       "      <td>2560.000000</td>\n",
       "      <td>2560.000000</td>\n",
       "      <td>2560.000000</td>\n",
       "      <td>2560.000000</td>\n",
       "      <td>2560.000000</td>\n",
       "      <td>2560.000000</td>\n",
       "    </tr>\n",
       "    <tr>\n",
       "      <th>mean</th>\n",
       "      <td>2.998438</td>\n",
       "      <td>2.538281</td>\n",
       "      <td>2.613281</td>\n",
       "      <td>3.052347</td>\n",
       "      <td>3.046428</td>\n",
       "      <td>3.024219</td>\n",
       "      <td>2.984375</td>\n",
       "      <td>2.941797</td>\n",
       "      <td>3.052734</td>\n",
       "      <td>2.632812</td>\n",
       "    </tr>\n",
       "    <tr>\n",
       "      <th>std</th>\n",
       "      <td>1.920457</td>\n",
       "      <td>1.961355</td>\n",
       "      <td>1.999331</td>\n",
       "      <td>1.388031</td>\n",
       "      <td>0.783069</td>\n",
       "      <td>1.724533</td>\n",
       "      <td>1.737274</td>\n",
       "      <td>1.789895</td>\n",
       "      <td>1.801814</td>\n",
       "      <td>1.944807</td>\n",
       "    </tr>\n",
       "    <tr>\n",
       "      <th>min</th>\n",
       "      <td>0.000000</td>\n",
       "      <td>0.000000</td>\n",
       "      <td>0.000000</td>\n",
       "      <td>-0.424015</td>\n",
       "      <td>0.811201</td>\n",
       "      <td>0.000000</td>\n",
       "      <td>0.000000</td>\n",
       "      <td>0.000000</td>\n",
       "      <td>0.000000</td>\n",
       "      <td>0.000000</td>\n",
       "    </tr>\n",
       "    <tr>\n",
       "      <th>25%</th>\n",
       "      <td>2.000000</td>\n",
       "      <td>0.000000</td>\n",
       "      <td>0.000000</td>\n",
       "      <td>1.896860</td>\n",
       "      <td>2.430562</td>\n",
       "      <td>2.000000</td>\n",
       "      <td>2.000000</td>\n",
       "      <td>2.000000</td>\n",
       "      <td>2.000000</td>\n",
       "      <td>0.000000</td>\n",
       "    </tr>\n",
       "    <tr>\n",
       "      <th>50%</th>\n",
       "      <td>3.000000</td>\n",
       "      <td>3.000000</td>\n",
       "      <td>3.000000</td>\n",
       "      <td>2.974837</td>\n",
       "      <td>2.970705</td>\n",
       "      <td>3.000000</td>\n",
       "      <td>3.000000</td>\n",
       "      <td>3.000000</td>\n",
       "      <td>3.000000</td>\n",
       "      <td>3.000000</td>\n",
       "    </tr>\n",
       "    <tr>\n",
       "      <th>75%</th>\n",
       "      <td>4.000000</td>\n",
       "      <td>4.000000</td>\n",
       "      <td>4.000000</td>\n",
       "      <td>3.892638</td>\n",
       "      <td>3.574274</td>\n",
       "      <td>4.000000</td>\n",
       "      <td>4.000000</td>\n",
       "      <td>4.000000</td>\n",
       "      <td>4.000000</td>\n",
       "      <td>4.000000</td>\n",
       "    </tr>\n",
       "    <tr>\n",
       "      <th>max</th>\n",
       "      <td>8.000000</td>\n",
       "      <td>6.000000</td>\n",
       "      <td>7.000000</td>\n",
       "      <td>6.894997</td>\n",
       "      <td>5.295647</td>\n",
       "      <td>6.000000</td>\n",
       "      <td>6.000000</td>\n",
       "      <td>6.000000</td>\n",
       "      <td>8.000000</td>\n",
       "      <td>6.000000</td>\n",
       "    </tr>\n",
       "  </tbody>\n",
       "</table>\n",
       "</div>"
      ],
      "text/plain": [
       "            Actual          KNN          SVC        Lasso        Ridge  \\\n",
       "count  2560.000000  2560.000000  2560.000000  2560.000000  2560.000000   \n",
       "mean      2.998438     2.538281     2.613281     3.052347     3.046428   \n",
       "std       1.920457     1.961355     1.999331     1.388031     0.783069   \n",
       "min       0.000000     0.000000     0.000000    -0.424015     0.811201   \n",
       "25%       2.000000     0.000000     0.000000     1.896860     2.430562   \n",
       "50%       3.000000     3.000000     3.000000     2.974837     2.970705   \n",
       "75%       4.000000     4.000000     4.000000     3.892638     3.574274   \n",
       "max       8.000000     6.000000     7.000000     6.894997     5.295647   \n",
       "\n",
       "       Random Forest  Decision Tree  MLPClassifier  Gradient Boosting  \\\n",
       "count    2560.000000    2560.000000    2560.000000        2560.000000   \n",
       "mean        3.024219       2.984375       2.941797           3.052734   \n",
       "std         1.724533       1.737274       1.789895           1.801814   \n",
       "min         0.000000       0.000000       0.000000           0.000000   \n",
       "25%         2.000000       2.000000       2.000000           2.000000   \n",
       "50%         3.000000       3.000000       3.000000           3.000000   \n",
       "75%         4.000000       4.000000       4.000000           4.000000   \n",
       "max         6.000000       6.000000       6.000000           8.000000   \n",
       "\n",
       "        Extra Tree  \n",
       "count  2560.000000  \n",
       "mean      2.632812  \n",
       "std       1.944807  \n",
       "min       0.000000  \n",
       "25%       0.000000  \n",
       "50%       3.000000  \n",
       "75%       4.000000  \n",
       "max       6.000000  "
      ]
     },
     "execution_count": 104,
     "metadata": {},
     "output_type": "execute_result"
    }
   ],
   "source": [
    "test.describe()"
   ]
  },
  {
   "cell_type": "code",
   "execution_count": 105,
   "metadata": {},
   "outputs": [
    {
     "data": {
      "text/plain": [
       "<matplotlib.axes._subplots.AxesSubplot at 0x16770098948>"
      ]
     },
     "execution_count": 105,
     "metadata": {},
     "output_type": "execute_result"
    },
    {
     "data": {
      "image/png": "[encoded data removed]",
      "text/plain": [
       "<Figure size 2880x1440 with 1 Axes>"
      ]
     },
     "metadata": {
      "needs_background": "light"
     },
     "output_type": "display_data"
    }
   ],
   "source": [
    "plt.rcParams['figure.figsize'] = [40, 20]\n",
    "test.plot.hist(bins=20)"
   ]
  },
  {
   "cell_type": "code",
   "execution_count": 106,
   "metadata": {},
   "outputs": [
    {
     "data": {
      "text/plain": [
       "<matplotlib.axes._subplots.AxesSubplot at 0x16770346508>"
      ]
     },
     "execution_count": 106,
     "metadata": {},
     "output_type": "execute_result"
    },
    {
     "data": {
      "image/png": "[encoded data removed]",
      "text/plain": [
       "<Figure size 2880x1440 with 1 Axes>"
      ]
     },
     "metadata": {
      "needs_background": "light"
     },
     "output_type": "display_data"
    }
   ],
   "source": [
    "test.plot.box(sym='r+')"
   ]
  },
  {
   "cell_type": "code",
   "execution_count": 109,
   "metadata": {},
   "outputs": [],
   "source": [
    "#performance metrics for model summary\n",
    "import sklearn.metrics as metrics\n",
    "\n",
    "knn_acc = metrics.accuracy_score(test_y, pred_knn)\n",
    "knn_mse = metrics.mean_squared_error(test_y, pred_knn)\n",
    "\n",
    "svc_acc = metrics.accuracy_score(test_y, pred_svc)\n",
    "svc_mse = metrics.mean_squared_error(test_y, pred_svc)\n",
    "\n",
    "lasso_mse = metrics.mean_squared_error(test_y, pred_lassoCV) \n",
    "\n",
    "ridge_mse = metrics.mean_squared_error(test_y, pred_ridge)\n",
    "\n",
    "rfc_acc = metrics.accuracy_score(test_y, pred_rfc)\n",
    "rfc_mse = metrics.mean_squared_error(test_y, pred_rfc)\n",
    "\n",
    "dtree_acc = metrics.accuracy_score(test_y, pred_dtree)\n",
    "dtree_mse = metrics.mean_squared_error(test_y, pred_dtree)\n",
    "\n",
    "clf_acc = metrics.accuracy_score(test_y, pred_clf)\n",
    "clf_mse = metrics.mean_squared_error(test_y, pred_clf)\n",
    "\n",
    "gb_acc = gb.score(test_X,test_y)\n",
    "gb_mse = metrics.mean_squared_error(test_y, pred_gb)\n",
    "\n",
    "etree_acc = etree.score(test_X,test_y)\n",
    "etree_mse = metrics.mean_squared_error(test_y, pred_etree)"
   ]
  },
  {
   "cell_type": "code",
   "execution_count": 110,
   "metadata": {},
   "outputs": [],
   "source": [
    "performance_summary = pd.DataFrame({'KNN': knn_acc,\n",
    "                     'SVC': svc_acc,'Random Forest': rfc_acc,\n",
    "                     'Decision Tree': dtree_acc, \n",
    "                     'MLPClassifier': clf_acc, 'Gradient Boosing' : gb_acc,\n",
    "                    'Extra Tree Classifier': etree_acc},index={'Accuracy Score'} )"
   ]
  },
  {
   "cell_type": "code",
   "execution_count": 111,
   "metadata": {},
   "outputs": [
    {
     "data": {
      "text/html": [
       "<div>\n",
       "<style scoped>\n",
       "    .dataframe tbody tr th:only-of-type {\n",
       "        vertical-align: middle;\n",
       "    }\n",
       "\n",
       "    .dataframe tbody tr th {\n",
       "        vertical-align: top;\n",
       "    }\n",
       "\n",
       "    .dataframe thead th {\n",
       "        text-align: right;\n",
       "    }\n",
       "</style>\n",
       "<table border=\"1\" class=\"dataframe\">\n",
       "  <thead>\n",
       "    <tr style=\"text-align: right;\">\n",
       "      <th></th>\n",
       "      <th>KNN</th>\n",
       "      <th>SVC</th>\n",
       "      <th>Random Forest</th>\n",
       "      <th>Decision Tree</th>\n",
       "      <th>MLPClassifier</th>\n",
       "      <th>Gradient Boosing</th>\n",
       "      <th>Extra Tree Classifier</th>\n",
       "    </tr>\n",
       "  </thead>\n",
       "  <tbody>\n",
       "    <tr>\n",
       "      <th>Accuracy Score</th>\n",
       "      <td>0.455078</td>\n",
       "      <td>0.483984</td>\n",
       "      <td>0.587891</td>\n",
       "      <td>0.555469</td>\n",
       "      <td>0.557031</td>\n",
       "      <td>0.592969</td>\n",
       "      <td>0.555078</td>\n",
       "    </tr>\n",
       "  </tbody>\n",
       "</table>\n",
       "</div>"
      ],
      "text/plain": [
       "                     KNN       SVC  Random Forest  Decision Tree  \\\n",
       "Accuracy Score  0.455078  0.483984       0.587891       0.555469   \n",
       "\n",
       "                MLPClassifier  Gradient Boosing  Extra Tree Classifier  \n",
       "Accuracy Score       0.557031          0.592969               0.555078  "
      ]
     },
     "execution_count": 111,
     "metadata": {},
     "output_type": "execute_result"
    }
   ],
   "source": [
    "performance_summary"
   ]
  },
  {
   "cell_type": "code",
   "execution_count": 112,
   "metadata": {},
   "outputs": [
    {
     "name": "stdout",
     "output_type": "stream",
     "text": [
      "MSE:\n",
      "KNN 2.5015625\n",
      "SVC 2.33515625\n",
      "Lasso 1.7468272188988672\n",
      "Ridge 2.12841491732367\n",
      "Random Forest 1.24765625\n",
      "Decision Tree 1.49296875\n",
      "MLPClassifier 1.580078125\n",
      "Gradient Boosting 1.174609375\n",
      "Extra Tree 2.1515625\n"
     ]
    }
   ],
   "source": [
    "print('MSE:')\n",
    "print('KNN',knn_mse)\n",
    "print('SVC',svc_mse)\n",
    "print('Lasso',lasso_mse)\n",
    "print('Ridge',ridge_mse)\n",
    "print('Random Forest',rfc_mse)\n",
    "print('Decision Tree',dtree_mse)\n",
    "print('MLPClassifier',clf_mse)\n",
    "print('Gradient Boosting',gb_mse)\n",
    "print('Extra Tree',etree_mse)"
   ]
  },
  {
   "cell_type": "code",
   "execution_count": null,
   "metadata": {},
   "outputs": [],
   "source": []
  }
 ],
 "metadata": {
  "kernelspec": {
   "display_name": "Python 3",
   "language": "python",
   "name": "python3"
  },
  "language_info": {
   "codemirror_mode": {
    "name": "ipython",
    "version": 3
   },
   "file_extension": ".py",
   "mimetype": "text/x-python",
   "name": "python",
   "nbconvert_exporter": "python",
   "pygments_lexer": "ipython3",
   "version": "3.7.6"
  },
  "toc": {
   "base_numbering": 1,
   "nav_menu": {},
   "number_sections": true,
   "sideBar": true,
   "skip_h1_title": false,
   "title_cell": "Table of Contents",
   "title_sidebar": "Contents",
   "toc_cell": false,
   "toc_position": {},
   "toc_section_display": true,
   "toc_window_display": false
  }
 },
 "nbformat": 4,
 "nbformat_minor": 4
}
